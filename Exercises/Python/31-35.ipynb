{
 "cells": [
  {
   "cell_type": "markdown",
   "metadata": {},
   "source": [
    "# The Missing Link of an Arithmetic Progression"
   ]
  },
  {
   "cell_type": "code",
   "execution_count": 1,
   "metadata": {},
   "outputs": [
    {
     "name": "stdout",
     "output_type": "stream",
     "text": [
      "2.0\n",
      "12.0\n",
      "2.5\n"
     ]
    }
   ],
   "source": [
    "def missing(sequence):\n",
    "    difference = (sequence[-1] - sequence[0]) / len(sequence)\n",
    "    for i in range(len(sequence) - 1):\n",
    "        if sequence[i+1] - sequence[i] != difference:\n",
    "            return sequence[i] + difference\n",
    "\n",
    "print(missing([1, 3, 4, 5]))  # Output: 2\n",
    "print(missing([2, 4, 6, 8, 10, 14, 16]))  # Output: 12\n",
    "print(missing([1.5, 2, 3]))  # Output: 2.5\n"
   ]
  },
  {
   "cell_type": "markdown",
   "metadata": {},
   "source": [
    "# camelCase ⇄ snake_case"
   ]
  },
  {
   "cell_type": "code",
   "execution_count": 4,
   "metadata": {},
   "outputs": [
    {
     "name": "stdout",
     "output_type": "stream",
     "text": [
      "helloEdabit\n",
      "hello_edabit\n",
      "isModalOpen\n",
      "get_color\n"
     ]
    }
   ],
   "source": [
    "def to_camel_case(snake_str):\n",
    "    components = snake_str.split(\"_\")\n",
    "    return components[0] + \"\".join(x.title() for x in components[1:])\n",
    "\n",
    "def to_snake_case(camel_str):\n",
    "    snake_str = ''.join(['_' + c.lower() if c.isupper() else c for c in camel_str])\n",
    "    return snake_str.lstrip('_')\n",
    "\n",
    "print(to_camel_case(\"hello_edabit\"))  # Output: \"helloEdabit\"\n",
    "print(to_snake_case(\"helloEdabit\"))   # Output: \"hello_edabit\"\n",
    "print(to_camel_case(\"is_modal_open\")) # Output: \"isModalOpen\"\n",
    "print(to_snake_case(\"getColor\"))      # Output: \"get_color\"\n"
   ]
  },
  {
   "cell_type": "markdown",
   "metadata": {},
   "source": [
    "# Any Prime Number in Range"
   ]
  },
  {
   "cell_type": "code",
   "execution_count": 5,
   "metadata": {},
   "outputs": [
    {
     "name": "stdout",
     "output_type": "stream",
     "text": [
      "True\n",
      "False\n",
      "True\n"
     ]
    }
   ],
   "source": [
    "import math\n",
    "\n",
    "def is_prime(n):\n",
    "    if n <= 1:\n",
    "        return False\n",
    "    if n <= 3:\n",
    "        return True\n",
    "    if n % 2 == 0 or n % 3 == 0:\n",
    "        return False\n",
    "    i = 5\n",
    "    while i * i <= n:\n",
    "        if n % i == 0 or n % (i + 2) == 0:\n",
    "            return False\n",
    "        i += 6\n",
    "    return True\n",
    "\n",
    "def prime_in_range(n1, n2):\n",
    "    for num in range(n1, n2 + 1):\n",
    "        if is_prime(num):\n",
    "            return True\n",
    "    return False\n",
    "\n",
    "print(prime_in_range(10, 15))  # Output: True\n",
    "print(prime_in_range(62, 66))  # Output: False\n",
    "print(prime_in_range(3, 5))    # Output: True\n"
   ]
  },
  {
   "cell_type": "markdown",
   "metadata": {},
   "source": [
    "# Coin Co-Operation"
   ]
  },
  {
   "cell_type": "code",
   "execution_count": 6,
   "metadata": {},
   "outputs": [
    {
     "name": "stdout",
     "output_type": "stream",
     "text": [
      "[5, 5]\n",
      "[6, 2]\n",
      "[3, 3]\n",
      "[3, 11]\n"
     ]
    }
   ],
   "source": [
    "def get_coin_balances(actions1, actions2):\n",
    "    coins1 = 3\n",
    "    coins2 = 3\n",
    "\n",
    "    for action1, action2 in zip(actions1, actions2):\n",
    "        if action1 == \"share\" and action2 == \"share\":\n",
    "            coins1 += 2\n",
    "            coins2 += 2\n",
    "        elif action1 == \"share\" and action2 == \"steal\":\n",
    "            coins1 -= 1\n",
    "            coins2 += 3\n",
    "        elif action1 == \"steal\" and action2 == \"share\":\n",
    "            coins1 += 3\n",
    "            coins2 -= 1\n",
    "        elif action1 == \"steal\" and action2 == \"steal\":\n",
    "            pass  \n",
    "\n",
    "    return [coins1, coins2]\n",
    "\n",
    "print(get_coin_balances([\"share\"], [\"share\"]))  # Output: [5, 5]\n",
    "print(get_coin_balances([\"steal\"], [\"share\"]))  # Output: [6, 2]\n",
    "print(get_coin_balances([\"steal\"], [\"steal\"]))  # Output: [3, 3]\n",
    "print(get_coin_balances([\"share\", \"share\", \"share\"], [\"steal\", \"share\", \"steal\"]))  # Output: [3, 11]\n"
   ]
  },
  {
   "cell_type": "markdown",
   "metadata": {},
   "source": [
    "# Mubashir Cipher"
   ]
  },
  {
   "cell_type": "code",
   "execution_count": null,
   "metadata": {},
   "outputs": [],
   "source": [
    "def mubashir_cipher(message):\n",
    "    key = [\n",
    "        ['m', 'c'], ['u', 'e'], ['b', 'g'], ['a', 'k'],\n",
    "        ['s', 'v'], ['h', 'x'], ['i', 'z'], ['r', 'y'],\n",
    "        ['p', 'w'], ['l', 'n'], ['o', 'j'], ['t', 'f'], ['q', 'd']\n",
    "    ]\n",
    "\n",
    "    cipher_map = {}\n",
    "    for pair in key:\n",
    "        cipher_map[pair[0]] = pair[1]\n",
    "        cipher_map[pair[1]] = pair[0]\n",
    "    \n",
    "    msg = \"\".join(cipher_map.get(char, char) for char in msg)\n",
    "    return msg\n",
    "\n",
    "print(mubashir_cipher(\"edabit is amazing !\"))  # Output: \"uqkgzf zv kckizlb !\"\n",
    "print(mubashir_cipher(\"mubashir is not amazing\"))  # Output: \"cegkvxzy zv ljf kckizlb\"\n",
    "print(mubashir_cipher(\"%$ &%\"))  # Output: \"%$ &%\"\n",
    "print(mubashir_cipher(\"evgeny sh is amazing\"))  # Output: \"usbulr vx zv kckizlb\"\n"
   ]
  }
 ],
 "metadata": {
  "kernelspec": {
   "display_name": "Python 3",
   "language": "python",
   "name": "python3"
  },
  "language_info": {
   "codemirror_mode": {
    "name": "ipython",
    "version": 3
   },
   "file_extension": ".py",
   "mimetype": "text/x-python",
   "name": "python",
   "nbconvert_exporter": "python",
   "pygments_lexer": "ipython3",
   "version": "3.11.0"
  }
 },
 "nbformat": 4,
 "nbformat_minor": 2
}
