{
 "cells": [
  {
   "cell_type": "markdown",
   "metadata": {},
   "source": [
    "# Hole Number Sequence"
   ]
  },
  {
   "cell_type": "code",
   "execution_count": 7,
   "metadata": {},
   "outputs": [
    {
     "name": "stdout",
     "output_type": "stream",
     "text": [
      "7\n",
      "1\n",
      "2\n",
      "4\n",
      "12345\n"
     ]
    }
   ],
   "source": [
    "def sum_of_holes(N):\n",
    "    holes = {\n",
    "        '0': 1,\n",
    "        '1': 0,\n",
    "        '2': 0,\n",
    "        '3': 0,\n",
    "        '4': 1,\n",
    "        '5': 0,\n",
    "        '6': 1,\n",
    "        '7': 0,\n",
    "        '8': 2,\n",
    "        '9': 1\n",
    "    }\n",
    "\n",
    "    total_holes = 0\n",
    "    for num in range(1, N+1):\n",
    "        for digit in str(num):\n",
    "            total_holes += holes[digit]\n",
    "    \n",
    "    return total_holes\n",
    "\n",
    "print(sum_of_holes(14))   # ➞ 7\n",
    "print(sum_of_holes(4))    # ➞ 1\n",
    "print(sum_of_holes(6))    # ➞ 2\n",
    "print(sum_of_holes(8))    # ➞ 4\n",
    "print(sum_of_holes(6259)) # ➞ 12345"
   ]
  },
  {
   "cell_type": "markdown",
   "metadata": {},
   "source": [
    "# Phrase or Word Inverse"
   ]
  },
  {
   "cell_type": "code",
   "execution_count": 2,
   "metadata": {},
   "outputs": [
    {
     "name": "stdout",
     "output_type": "stream",
     "text": [
      "Valhalla is this\n",
      "Eno enif yad ot trats\n",
      "Two of powers by division\n"
     ]
    }
   ],
   "source": [
    "def inverter(phrase, type):\n",
    "    def invert_words(phrase):\n",
    "        return ' '.join(word[::-1] for word in phrase.split())\n",
    "    \n",
    "    if type == 'P':\n",
    "        inverted_phrase = ' '.join(phrase.split()[::-1])\n",
    "    elif type == 'W':\n",
    "        inverted_phrase = invert_words(phrase)\n",
    "    else:\n",
    "        raise ValueError(\"Invalid type. Use 'P' for phrase inversion or 'W' for word inversion.\")\n",
    "    \n",
    "    return inverted_phrase.capitalize()\n",
    "\n",
    "print(inverter(\"This is Valhalla\", \"P\"))  # ➞ \"Valhalla is this\"\n",
    "print(inverter(\"One fine day to start\", \"W\"))  # ➞ \"Eno enif yad ot trats\"\n",
    "print(inverter(\"Division by powers of two\", \"P\"))  # ➞ \"Two of powers by division\""
   ]
  },
  {
   "cell_type": "markdown",
   "metadata": {},
   "source": [
    "# Sorting Time"
   ]
  },
  {
   "cell_type": "code",
   "execution_count": 11,
   "metadata": {},
   "outputs": [
    {
     "name": "stdout",
     "output_type": "stream",
     "text": [
      "[-5, 1, 2, 4, 7, 8]\n",
      "[-28, 15, 17, 23, 34]\n",
      "[18, 38, 39, 45, 47, 57]\n"
     ]
    }
   ],
   "source": [
    "def sort_array(arr):\n",
    "    n = len(arr)\n",
    "    for i in range(n):\n",
    "        for j in range(0, n - i - 1):\n",
    "            if arr[j] > arr[j + 1]:\n",
    "                arr[j], arr[j + 1] = arr[j+1], arr[j]\n",
    "    \n",
    "    return arr\n",
    "\n",
    "print(sort_array([2, -5, 1, 4, 7, 8]))  # ➞ [-5, 1, 2, 4, 7, 8]\n",
    "print(sort_array([23, 15, 34, 17, -28]))  # ➞ [-28, 15, 17, 23, 34]\n",
    "print(sort_array([38, 57, 45, 18, 47, 39]))  # ➞ [18, 38, 39, 45, 47, 57]\n"
   ]
  },
  {
   "cell_type": "markdown",
   "metadata": {},
   "source": [
    "# Sort Positives, Keep Negatives"
   ]
  },
  {
   "cell_type": "code",
   "execution_count": 12,
   "metadata": {},
   "outputs": [
    {
     "name": "stdout",
     "output_type": "stream",
     "text": [
      "[2, 3, -2, 5, -8, 6, -2]\n",
      "[1, 2, 3, -1, 4, 5, -1, 6]\n",
      "[-5, -5, -5, -5, 7, -5]\n",
      "[]\n"
     ]
    }
   ],
   "source": [
    "def pos_neg_sort(arr):\n",
    "    positives = sorted([x for x in arr if x > 0])\n",
    "\n",
    "    result = []\n",
    "    pos_index = 0\n",
    "    for num in arr:\n",
    "        if num > 0:\n",
    "            result.append(positives[pos_index])\n",
    "            pos_index += 1\n",
    "        else:\n",
    "            result.append(num)\n",
    "    \n",
    "    return result\n",
    "print(pos_neg_sort([6, 3, -2, 5, -8, 2, -2]))  # ➞ [2, 3, -2, 5, -8, 6, -2]\n",
    "print(pos_neg_sort([6, 5, 4, -1, 3, 2, -1, 1]))  # ➞ [1, 2, 3, -1, 4, 5, -1, 6]\n",
    "print(pos_neg_sort([-5, -5, -5, -5, 7, -5]))  # ➞ [-5, -5, -5, -5, 7, -5]\n",
    "print(pos_neg_sort([]))  # ➞ []\n"
   ]
  },
  {
   "cell_type": "markdown",
   "metadata": {},
   "source": [
    "# Sum of Round Numbers"
   ]
  },
  {
   "cell_type": "code",
   "execution_count": 5,
   "metadata": {},
   "outputs": [
    {
     "name": "stdout",
     "output_type": "stream",
     "text": [
      "ef92b778bafe771e89245b89ecbc08a44a4e166c06659911881f383d4473e94f\n",
      "dcc1ac3a7148a2d9f47b7dbe3d733040c335b2a3d8adc7984e0c483c5b2c1665\n",
      "14f997f08b8ad032dcb274198684f995d34043f9da00acd904dc72836359ae0f\n"
     ]
    }
   ],
   "source": [
    "import hashlib\n",
    "\n",
    "def get_sha256_hash(s):\n",
    "    # Create a new sha256 hash object\n",
    "    sha256 = hashlib.sha256()\n",
    "\n",
    "    sha256.update(s.encode('utf-8'))\n",
    "\n",
    "    return sha256.hexdigest()\n",
    "\n",
    "print(get_sha256_hash(\"password123\"))  # ➞ \"ef92b778bafe771e89245b89ecbc08a44a4e166c06659911881f383d4473e94f\"\n",
    "print(get_sha256_hash(\"Fluffy@home\"))  # ➞ \"dcc1ac3a7148a2d9f47b7dbe3d733040c335b2a3d8adc7984e0c483c5b2c1665\"\n",
    "print(get_sha256_hash(\"Hey dude!\"))    # ➞ \"14f997f08b8ad032dcb274198684f995d34043f9da00acd904dc72836359ae0f\""
   ]
  }
 ],
 "metadata": {
  "kernelspec": {
   "display_name": "Python 3",
   "language": "python",
   "name": "python3"
  },
  "language_info": {
   "codemirror_mode": {
    "name": "ipython",
    "version": 3
   },
   "file_extension": ".py",
   "mimetype": "text/x-python",
   "name": "python",
   "nbconvert_exporter": "python",
   "pygments_lexer": "ipython3",
   "version": "3.11.0"
  }
 },
 "nbformat": 4,
 "nbformat_minor": 2
}
