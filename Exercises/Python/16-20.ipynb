{
 "cells": [
  {
   "cell_type": "markdown",
   "metadata": {},
   "source": [
    "# Triple Letter Groupings"
   ]
  },
  {
   "cell_type": "code",
   "execution_count": 1,
   "metadata": {},
   "outputs": [
    {
     "name": "stdout",
     "output_type": "stream",
     "text": [
      "['abi', 'bit', 'dab', 'eda']\n",
      "['lap', 'sla']\n",
      "['cli', 'ick', 'lic']\n",
      "['cat']\n",
      "[]\n"
     ]
    }
   ],
   "source": [
    "def three_letter_collection(s):\n",
    "    if len(s) < 3:\n",
    "        return []\n",
    "    \n",
    "    result = []\n",
    "\n",
    "    for i in range(len(s) - 2):\n",
    "        result.append(s[i:i+3])\n",
    "    \n",
    "    result.sort()\n",
    "    return result\n",
    "\n",
    "print(three_letter_collection(\"edabit\")) # ➞ [\"abi\", \"bit\", \"dab\", \"eda\"]\n",
    "print(three_letter_collection(\"slap\"))   # ➞ [\"lap\", \"sla\"]\n",
    "print(three_letter_collection(\"click\"))  # ➞ [\"cli\", \"ick\", \"lic\"]\n",
    "print(three_letter_collection(\"cat\"))    # ➞ [\"cat\"]\n",
    "print(three_letter_collection(\"hi\"))     # ➞ []"
   ]
  },
  {
   "cell_type": "markdown",
   "metadata": {},
   "source": [
    "# Find the Missing Letter"
   ]
  },
  {
   "cell_type": "code",
   "execution_count": 2,
   "metadata": {},
   "outputs": [
    {
     "name": "stdout",
     "output_type": "stream",
     "text": [
      "d\n",
      "P\n",
      "y\n",
      "n\n"
     ]
    }
   ],
   "source": [
    "def missing_letter(letters):\n",
    "    for i in range(len(letters) - 1):\n",
    "        if ord(letters[i+1]) - ord(letters[i]) > 1:\n",
    "            return chr(ord(letters[i]) + 1)\n",
    "\n",
    "print(missing_letter([\"a\", \"b\", \"c\", \"e\", \"f\", \"g\"]))  # ➞ \"d\"\n",
    "print(missing_letter([\"O\", \"Q\", \"R\", \"S\"]))            # ➞ \"P\"\n",
    "print(missing_letter([\"t\", \"u\", \"v\", \"w\", \"x\", \"z\"]))  # ➞ \"y\"\n",
    "print(missing_letter([\"m\", \"o\"]))                      # ➞ \"n\""
   ]
  },
  {
   "cell_type": "markdown",
   "metadata": {},
   "source": [
    "# Back and Forth"
   ]
  },
  {
   "cell_type": "code",
   "execution_count": 3,
   "metadata": {},
   "outputs": [
    {
     "name": "stdout",
     "output_type": "stream",
     "text": [
      "<<<\n",
      ">\n",
      "<<\n",
      "\n"
     ]
    }
   ],
   "source": [
    "def calculate_arrowhead(lst):\n",
    "    right = 0\n",
    "    left = 0\n",
    "\n",
    "    for arrow in lst:\n",
    "        right += arrow.count('>')\n",
    "        left += arrow.count('<')\n",
    "\n",
    "    result = right - left\n",
    "\n",
    "    if result > 0:\n",
    "        return '>' * result\n",
    "    elif result < 0:\n",
    "        return '<' * abs(result)\n",
    "    else:\n",
    "        return ''\n",
    "        \n",
    "print(calculate_arrowhead([\">>\", \"<<\", \"<<<\"]))  # ➞ \"<<<\"\n",
    "print(calculate_arrowhead([\">>>>\", \"<\", \"<\", \"<\"]))  # ➞ \">\"\n",
    "print(calculate_arrowhead([\">\", \"<\", \">>\", \"<\", \"<<<\"]))  # ➞ \"<<\"\n",
    "print(calculate_arrowhead([\">>>\", \"<<<\"]))  # ➞ \"\""
   ]
  },
  {
   "cell_type": "markdown",
   "metadata": {},
   "source": [
    "# The Antipodes Average"
   ]
  },
  {
   "cell_type": "code",
   "execution_count": 4,
   "metadata": {},
   "outputs": [
    {
     "name": "stdout",
     "output_type": "stream",
     "text": [
      "[2.5, 2.5]\n",
      "[3.0, 3.0]\n",
      "[-1.5]\n"
     ]
    }
   ],
   "source": [
    "def antipodes_average(lst):\n",
    "    length = len(lst)\n",
    "    mid = length // 2\n",
    "\n",
    "    if length % 2 != 0:\n",
    "        left_part = lst[:mid]\n",
    "        right_part = lst[mid+1:]\n",
    "    else:\n",
    "        left_part = lst[:mid]\n",
    "        right_part = lst[mid:]\n",
    "\n",
    "    right_part_reversed = right_part[::-1]\n",
    "    summed_list = [left_part[i] + right_part_reversed[i] for i in range(mid)]\n",
    "    result = [x / 2 for x in summed_list]\n",
    "    return result\n",
    "\n",
    "print(antipodes_average([1, 2, 3, 4]))        # ➞ [2.5, 2.5]\n",
    "print(antipodes_average([1, 2, 3, 4, 5]))     # ➞ [3, 3]\n",
    "print(antipodes_average([-1, -2]))            # ➞ [-1.5]"
   ]
  },
  {
   "cell_type": "markdown",
   "metadata": {},
   "source": [
    "# A Simple Equation"
   ]
  },
  {
   "cell_type": "code",
   "execution_count": 5,
   "metadata": {},
   "outputs": [
    {
     "name": "stdout",
     "output_type": "stream",
     "text": [
      "1+2=3\n",
      "2+2=4\n",
      "6/2=3\n"
     ]
    }
   ],
   "source": [
    "from itertools import permutations\n",
    "def simple_equation(a, b, c):\n",
    "    perms = permutations([a, b, c])\n",
    "\n",
    "    for perm in perms:\n",
    "        x, y, z = perm\n",
    "\n",
    "        if x + y == z:\n",
    "            return f\"{x}+{y}={z}\"\n",
    "        elif x - y == z:\n",
    "            return f\"{x}-{y}={z}\"\n",
    "        elif x * y == z:\n",
    "            return f\"{x}*{y}={z}\"\n",
    "        elif y != 0 and x / y == z:\n",
    "            return f\"{x}/{y}={z}\"\n",
    "        \n",
    "        if x != 0 and y / x == z:\n",
    "            return f\"{y}/{x}={z}\"\n",
    "    \n",
    "    return \"\"\n",
    "\n",
    "print(simple_equation(1, 2, 3))   # \"1+2=3\" or \"2+1=3\" or \"3-2=1\" or \"3-1=2\"\n",
    "print(simple_equation(2, 2, 4))   # \"2+2=4\" or \"2*2=4\" or \"4/2=2\" or \"4-2=2\"\n",
    "print(simple_equation(6, 2, 3))   # \"2*3=6\" or \"3*2=6\" or \"6/2=3\" or \"6/3=2\""
   ]
  },
  {
   "cell_type": "markdown",
   "metadata": {},
   "source": []
  }
 ],
 "metadata": {
  "kernelspec": {
   "display_name": "Python 3",
   "language": "python",
   "name": "python3"
  },
  "language_info": {
   "codemirror_mode": {
    "name": "ipython",
    "version": 3
   },
   "file_extension": ".py",
   "mimetype": "text/x-python",
   "name": "python",
   "nbconvert_exporter": "python",
   "pygments_lexer": "ipython3",
   "version": "3.11.0"
  }
 },
 "nbformat": 4,
 "nbformat_minor": 2
}
