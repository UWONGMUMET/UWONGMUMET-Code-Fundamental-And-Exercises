{
 "cells": [
  {
   "cell_type": "markdown",
   "metadata": {},
   "source": [
    "# Find the Shared Letters between Two Strings"
   ]
  },
  {
   "cell_type": "code",
   "execution_count": 3,
   "metadata": {},
   "outputs": [
    {
     "name": "stdout",
     "output_type": "stream",
     "text": [
      "eho\n",
      "m\n",
      "\n"
     ]
    }
   ],
   "source": [
    "def shared_letters(str1, str2):\n",
    "    str1 = str1.lower()\n",
    "    str2 = str2.lower()\n",
    "\n",
    "    shared = sorted([char for char in set(str1) if char in set(str2)])\n",
    "    \n",
    "    return ''.join(shared)\n",
    "    \n",
    "print(shared_letters(\"house\", \"home\"))  # ➞ \"eho\"\n",
    "print(shared_letters(\"Micky\", \"mouse\"))  # ➞ \"m\"\n",
    "print(shared_letters(\"house\", \"villa\"))  # ➞ \"\""
   ]
  },
  {
   "cell_type": "markdown",
   "metadata": {},
   "source": [
    "# Return Duplicate Numbers"
   ]
  },
  {
   "cell_type": "code",
   "execution_count": 8,
   "metadata": {},
   "outputs": [
    {
     "name": "stdout",
     "output_type": "stream",
     "text": [
      "[3]\n",
      "[72, 81, 99]\n",
      "None\n"
     ]
    }
   ],
   "source": [
    "def duplicate_nums(nums):\n",
    "    duplicates = sorted(set(num for num in nums if nums.count(num) > 1))\n",
    "    return duplicates if duplicates else None\n",
    "\n",
    "print(duplicate_nums([1, 2, 3, 4, 3, 5, 6]))  # ➞ [3]\n",
    "print(duplicate_nums([81, 72, 43, 72, 81, 99, 99, 100, 12, 54]))  # ➞ [72, 81, 99]\n",
    "print(duplicate_nums([1, 2, 3, 4, 5, 6, 7, 8, 9, 10]))  # ➞ None"
   ]
  },
  {
   "cell_type": "markdown",
   "metadata": {},
   "source": [
    "# Are They the Same?"
   ]
  },
  {
   "cell_type": "code",
   "execution_count": 9,
   "metadata": {},
   "outputs": [
    {
     "name": "stdout",
     "output_type": "stream",
     "text": [
      "One's empty\n",
      "True\n",
      "Not the same\n"
     ]
    }
   ],
   "source": [
    "def check(dict_first, dict_second, key):\n",
    "    if key not in dict_first and key not in dict_second:\n",
    "        return \"One's empty\"\n",
    "    \n",
    "    if key not in dict_first or key not in dict_second:\n",
    "        return \"One's empty\"\n",
    "    \n",
    "    if dict_first[key] == dict_second[key]:\n",
    "        return True\n",
    "    else:\n",
    "        return \"Not the same\"\n",
    "\n",
    "dict_first = { \"sky\": \"temple\", \"horde\": \"orcs\", \"people\": 12, \"story\": \"fine\", \"sun\": \"bright\" }\n",
    "dict_second = { \"people\": 12, \"sun\": \"star\", \"book\": \"bad\" }\n",
    "\n",
    "print(check(dict_first, dict_second, \"horde\"))  # ➞ \"One's empty\"\n",
    "print(check(dict_first, dict_second, \"people\"))  # ➞ True\n",
    "print(check(dict_first, dict_second, \"sun\"))     # ➞ \"Not the same\""
   ]
  },
  {
   "cell_type": "markdown",
   "metadata": {},
   "source": [
    "# The Fibonacci Number"
   ]
  },
  {
   "cell_type": "code",
   "execution_count": 13,
   "metadata": {},
   "outputs": [
    {
     "name": "stdout",
     "output_type": "stream",
     "text": [
      "1\n",
      "1\n",
      "2\n",
      "3\n",
      "5\n",
      "13\n",
      "144\n"
     ]
    }
   ],
   "source": [
    "def fibonacci(n):\n",
    "    if n <= 0:\n",
    "        return None\n",
    "    elif n == 1 or n == 2:\n",
    "        return 1\n",
    "    return fibonacci(n - 1) + fibonacci(n - 2) \n",
    "\n",
    "print(fibonacci(1))  # ➞ 1\n",
    "print(fibonacci(2))  # ➞ 1\n",
    "print(fibonacci(3))  # ➞ 2\n",
    "print(fibonacci(4))  # ➞ 3\n",
    "print(fibonacci(5))  # ➞ 5\n",
    "print(fibonacci(7))  # ➞ 13\n",
    "print(fibonacci(12))  # ➞ 144"
   ]
  },
  {
   "cell_type": "markdown",
   "metadata": {},
   "source": [
    "# Arrow Pattern"
   ]
  },
  {
   "cell_type": "code",
   "execution_count": 20,
   "metadata": {},
   "outputs": [
    {
     "name": "stdout",
     "output_type": "stream",
     "text": [
      "['>', '>>', '>>>', '>>', '>']\n",
      "['>', '>>', '>>>', '>>>>', '>>>', '>>', '>']\n"
     ]
    }
   ],
   "source": [
    "def arrow(n):\n",
    "    pattern = []\n",
    "\n",
    "    for i in range(1, n+1):\n",
    "        pattern.append(\">\" * i)\n",
    "\n",
    "    for i in range(n-1, 0, -1):\n",
    "        pattern.append(\">\" * i)\n",
    "    \n",
    "    return pattern\n",
    "\n",
    "print(arrow(3))  # ➞ [\">\", \">>\", \">>>\", \">>\", \">\"]\n",
    "print(arrow(4))  # ➞ [\">\", \">>\", \">>>\", \">>>>\", \">>>>\", \">>>\", \">>\", \">\"]\n"
   ]
  },
  {
   "cell_type": "code",
   "execution_count": null,
   "metadata": {},
   "outputs": [],
   "source": []
  }
 ],
 "metadata": {
  "kernelspec": {
   "display_name": "Python 3",
   "language": "python",
   "name": "python3"
  },
  "language_info": {
   "codemirror_mode": {
    "name": "ipython",
    "version": 3
   },
   "file_extension": ".py",
   "mimetype": "text/x-python",
   "name": "python",
   "nbconvert_exporter": "python",
   "pygments_lexer": "ipython3",
   "version": "3.11.0"
  }
 },
 "nbformat": 4,
 "nbformat_minor": 2
}
