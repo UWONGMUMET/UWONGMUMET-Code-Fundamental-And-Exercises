{
 "cells": [
  {
   "cell_type": "markdown",
   "metadata": {},
   "source": [
    "# Sum of Negative Integers"
   ]
  },
  {
   "cell_type": "code",
   "execution_count": 6,
   "metadata": {},
   "outputs": [
    {
     "name": "stdout",
     "output_type": "stream",
     "text": [
      "-23\n",
      "-33\n"
     ]
    }
   ],
   "source": [
    "import re\n",
    "\n",
    "def negative_sum(s):\n",
    "    negative_numbers = re.findall(r'-\\d+', s)\n",
    "\n",
    "    result = 0\n",
    "    for neg in negative_numbers:\n",
    "        result += int(neg)\n",
    "    \n",
    "    return result\n",
    "\n",
    "# Examples\n",
    "print(negative_sum(\"-12 13%14&-11\"))        # Output: -23\n",
    "print(negative_sum(\"22 13%14&-11-22 13 12\"))  # Output: -33"
   ]
  },
  {
   "cell_type": "markdown",
   "metadata": {},
   "source": [
    "# Filter Primes from a List"
   ]
  },
  {
   "cell_type": "code",
   "execution_count": 11,
   "metadata": {},
   "outputs": [
    {
     "name": "stdout",
     "output_type": "stream",
     "text": [
      "[7, 3, 11]\n",
      "[10007, 1009]\n",
      "[1009, 3, 61, 1087, 1091, 1093, 1097]\n"
     ]
    }
   ],
   "source": [
    "def is_prime(num):\n",
    "    if num <= 1:\n",
    "        return False\n",
    "    if num == 2:\n",
    "        return True\n",
    "    if num % 2 == 0:\n",
    "        return False\n",
    "    for i in range(3, int(num ** 0.5) + 1, 2):\n",
    "        if num % i == 0:\n",
    "            return False\n",
    "    return True\n",
    "\n",
    "def filter_primes(lst):\n",
    "    return [x for x in lst if is_prime(x)]\n",
    "    \n",
    "print(filter_primes([7, 9, 3, 9, 10, 11, 27]))  # Output: [7, 3, 11]\n",
    "print(filter_primes([10007, 1009, 1007, 27, 147, 77, 1001, 70]))  # Output: [10007, 1009]\n",
    "print(filter_primes([1009, 10, 10, 10, 3, 33, 9, 4, 1, 61, 63, 69, 1087, 1091, 1093, 1097]))  # Output: [1009, 3, 61, 1087, 1091, 1093, 1097]"
   ]
  },
  {
   "cell_type": "markdown",
   "metadata": {},
   "source": [
    "# Multiplication Table"
   ]
  },
  {
   "cell_type": "code",
   "execution_count": 12,
   "metadata": {},
   "outputs": [
    {
     "name": "stdout",
     "output_type": "stream",
     "text": [
      "[[1]]\n",
      "[[1], [2], [3], [2], [4], [6], [3], [6], [9]]\n",
      "[[1], [2], [3], [4], [5], [2], [4], [6], [8], [10], [3], [6], [9], [12], [15], [4], [8], [12], [16], [20], [5], [10], [15], [20], [25]]\n"
     ]
    }
   ],
   "source": [
    "def multiplication_table(n):\n",
    "    return [[i * j] for j in range(1, n+1) for i in range(1, n+1)]\n",
    "\n",
    "print(multiplication_table(1))  # Output: [[1]]\n",
    "print(multiplication_table(3))  # Output: [[1, 2, 3], [2, 4, 6], [3, 6, 9]]\n",
    "print(multiplication_table(5))  # Output: [[1, 2, 3, 4, 5], [2, 4, 6, 8, 10], [3, 6, 9, 12, 15], [4, 8, 12, 16, 20], [5, 10, 15, 20, 25]]"
   ]
  },
  {
   "cell_type": "markdown",
   "metadata": {},
   "source": [
    "# Fast Fibonacci"
   ]
  },
  {
   "cell_type": "code",
   "execution_count": 15,
   "metadata": {},
   "outputs": [
    {
     "name": "stdout",
     "output_type": "stream",
     "text": [
      "5\n",
      "55\n",
      "6765\n",
      "12586269025\n"
     ]
    }
   ],
   "source": [
    "def fib_fast(num):\n",
    "    if num == 0: \n",
    "        return 0\n",
    "    if num == 1:\n",
    "        return 1\n",
    "    \n",
    "    a, b = 0, 1\n",
    "    for i in range(2, num+1):\n",
    "        a, b = b, a+b\n",
    "    return b\n",
    "\n",
    "print(fib_fast(5))   # Output: 5\n",
    "print(fib_fast(10))  # Output: 55\n",
    "print(fib_fast(20))  # Output: 6765\n",
    "print(fib_fast(50))  # Output: 12586269025"
   ]
  },
  {
   "cell_type": "markdown",
   "metadata": {},
   "source": [
    "# Palindromic Anagrams"
   ]
  },
  {
   "cell_type": "code",
   "execution_count": 18,
   "metadata": {},
   "outputs": [
    {
     "name": "stdout",
     "output_type": "stream",
     "text": [
      "True\n",
      "True\n",
      "False\n"
     ]
    }
   ],
   "source": [
    "def is_palindrome_possible(word):\n",
    "    odd_chars = set()\n",
    "\n",
    "    for char in word:\n",
    "        if char in odd_chars:\n",
    "            odd_chars.remove(char)\n",
    "        else:\n",
    "            odd_chars.add(char)\n",
    "\n",
    "    return len(odd_chars) <= 1\n",
    "\n",
    "print(is_palindrome_possible(\"rearcac\"))  # Output: True\n",
    "print(is_palindrome_possible(\"suhbeusheff\"))  # Output: True\n",
    "print(is_palindrome_possible(\"palindrome\"))  # Output: False"
   ]
  },
  {
   "cell_type": "code",
   "execution_count": null,
   "metadata": {},
   "outputs": [],
   "source": []
  }
 ],
 "metadata": {
  "kernelspec": {
   "display_name": "Python 3",
   "language": "python",
   "name": "python3"
  },
  "language_info": {
   "codemirror_mode": {
    "name": "ipython",
    "version": 3
   },
   "file_extension": ".py",
   "mimetype": "text/x-python",
   "name": "python",
   "nbconvert_exporter": "python",
   "pygments_lexer": "ipython3",
   "version": "3.11.0"
  }
 },
 "nbformat": 4,
 "nbformat_minor": 2
}
