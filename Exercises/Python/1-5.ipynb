{
 "cells": [
  {
   "cell_type": "markdown",
   "metadata": {},
   "source": [
    "# Algorithms I: Introduction to Recursion"
   ]
  },
  {
   "cell_type": "code",
   "execution_count": 15,
   "metadata": {},
   "outputs": [
    {
     "name": "stdout",
     "output_type": "stream",
     "text": [
      "120\n",
      "6\n",
      "2\n"
     ]
    }
   ],
   "source": [
    "def factorical(n):\n",
    "    return 1 if n == 0  else n * factorical(n-1)\n",
    "\n",
    "print(factorical(5)) # ➞ 120\n",
    "print(factorical(3)) # ➞ 6\n",
    "print(factorical(2)) # ➞ 2"
   ]
  },
  {
   "cell_type": "markdown",
   "metadata": {},
   "source": [
    "# Sum Fractions"
   ]
  },
  {
   "cell_type": "code",
   "execution_count": 5,
   "metadata": {},
   "outputs": [
    {
     "name": "stdout",
     "output_type": "stream",
     "text": [
      "2\n",
      "9\n",
      "11\n"
     ]
    }
   ],
   "source": [
    "def sum_fractions(lst):\n",
    "    return round(sum(num / denom for num, denom in lst))\n",
    "\n",
    "print(sum_fractions([[18, 13], [4, 5]])) # ➞ 2\n",
    "print(sum_fractions([[36, 4], [22, 60]])) # ➞ 9\n",
    "print(sum_fractions([[11, 2], [3, 4], [5, 4], [21, 11], [12, 6]])) # ➞ 11"
   ]
  },
  {
   "cell_type": "markdown",
   "metadata": {},
   "source": [
    "# Face Interval"
   ]
  },
  {
   "cell_type": "code",
   "execution_count": 14,
   "metadata": {},
   "outputs": [
    {
     "name": "stdout",
     "output_type": "stream",
     "text": [
      ":)\n",
      ":(\n",
      ":/\n"
     ]
    }
   ],
   "source": [
    "def face_interval(lst):\n",
    "    if not isinstance(lst, list):\n",
    "        return \":/\"\n",
    "    \n",
    "    interval = max(lst) - min(lst)\n",
    "\n",
    "    for num in lst:\n",
    "        if num == interval:\n",
    "            return \":)\"\n",
    "        \n",
    "    return \":(\"\n",
    "\n",
    "print(face_interval([1, 2, 5, 8, 3, 9]))  # ➞ \":)\"\n",
    "print(face_interval([5, 2, 8, 3, 11]))   # ➞ \":(\"\n",
    "print(face_interval(\"bruh\"))             # ➞ \":/\""
   ]
  },
  {
   "cell_type": "markdown",
   "metadata": {},
   "source": [
    "# Intersecting Intervals"
   ]
  },
  {
   "cell_type": "code",
   "execution_count": 2,
   "metadata": {},
   "outputs": [
    {
     "name": "stdout",
     "output_type": "stream",
     "text": [
      "3\n",
      "0\n",
      "2\n",
      "2\n"
     ]
    }
   ],
   "source": [
    "def count_overlapping(intervals, points):\n",
    "    return sum(start <= points <= end for start, end in intervals)\n",
    "\n",
    "print(count_overlapping([[1, 2], [2, 3], [1, 3], [4, 5], [0, 1]], 2))  # ➞ 3\n",
    "print(count_overlapping([[1, 2], [2, 3], [3, 4]], 5))                 # ➞ 0\n",
    "print(count_overlapping([[1, 2], [5, 6], [5, 7]], 5))                 # ➞ 2\n",
    "print(count_overlapping([[1, 2], [5, 8], [6, 9]], 7))                 # ➞ 2"
   ]
  },
  {
   "cell_type": "markdown",
   "metadata": {},
   "source": [
    "# Father and Son Ages"
   ]
  },
  {
   "cell_type": "code",
   "execution_count": 1,
   "metadata": {},
   "outputs": [
    {
     "name": "stdout",
     "output_type": "stream",
     "text": [
      "22\n",
      "5\n",
      "0\n"
     ]
    }
   ],
   "source": [
    "def age_difference(f_age, s_age):\n",
    "    return abs(f_age - 2 * s_age)\n",
    "\n",
    "print(age_difference(36, 7))  # Output: 22\n",
    "print(age_difference(55, 30)) # Output: 5\n",
    "print(age_difference(42, 21)) # Output: 0\n"
   ]
  },
  {
   "cell_type": "code",
   "execution_count": null,
   "metadata": {},
   "outputs": [],
   "source": []
  }
 ],
 "metadata": {
  "kernelspec": {
   "display_name": "Python 3",
   "language": "python",
   "name": "python3"
  },
  "language_info": {
   "codemirror_mode": {
    "name": "ipython",
    "version": 3
   },
   "file_extension": ".py",
   "mimetype": "text/x-python",
   "name": "python",
   "nbconvert_exporter": "python",
   "pygments_lexer": "ipython3",
   "version": "3.11.0"
  }
 },
 "nbformat": 4,
 "nbformat_minor": 2
}
