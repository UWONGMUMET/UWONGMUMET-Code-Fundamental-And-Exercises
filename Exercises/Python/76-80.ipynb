{
 "cells": [
  {
   "cell_type": "markdown",
   "metadata": {},
   "source": [
    "# Through the Grid"
   ]
  },
  {
   "cell_type": "code",
   "execution_count": 1,
   "metadata": {},
   "outputs": [
    {
     "name": "stdout",
     "output_type": "stream",
     "text": [
      "2\n",
      "210\n",
      "252\n"
     ]
    }
   ],
   "source": [
    "import math\n",
    "\n",
    "def grid_pos(dimensions):\n",
    "    w, h = dimensions\n",
    "    return math.comb(w + h, w)\n",
    "\n",
    "print(grid_pos([1, 1]))  # Output: 2\n",
    "print(grid_pos([6, 4]))  # Output: 210\n",
    "print(grid_pos([5, 5]))  # Output: 252"
   ]
  },
  {
   "cell_type": "markdown",
   "metadata": {},
   "source": [
    "# Common Divisor of List"
   ]
  },
  {
   "cell_type": "code",
   "execution_count": 2,
   "metadata": {},
   "outputs": [
    {
     "name": "stdout",
     "output_type": "stream",
     "text": [
      "10\n",
      "1\n",
      "64\n"
     ]
    }
   ],
   "source": [
    "import math\n",
    "from functools import reduce\n",
    "\n",
    "def GCD(lst):\n",
    "    return reduce(math.gcd, lst)\n",
    "\n",
    "print(GCD([10, 20, 40]))         # Output: 10\n",
    "print(GCD([1, 2, 3, 100]))       # Output: 1\n",
    "print(GCD([1024, 192, 2048, 512])) # Output: 64"
   ]
  },
  {
   "cell_type": "markdown",
   "metadata": {},
   "source": [
    "# Find the Primorial"
   ]
  },
  {
   "cell_type": "code",
   "execution_count": 4,
   "metadata": {},
   "outputs": [
    {
     "name": "stdout",
     "output_type": "stream",
     "text": [
      "2\n",
      "6\n",
      "9699690\n"
     ]
    }
   ],
   "source": [
    "def is_prime(num):\n",
    "    if num < 2:\n",
    "        return False\n",
    "    for i in range(2, int(num**0.5) + 1):\n",
    "        if num % i == 0:\n",
    "            return False\n",
    "    return True\n",
    "\n",
    "def primorial(n):\n",
    "    primes = []\n",
    "    num = 2\n",
    "    while len(primes) < n:\n",
    "        if is_prime(num):\n",
    "            primes.append(num)\n",
    "        num += 1\n",
    "    result = 1\n",
    "    for prime in primes:\n",
    "        result *= prime\n",
    "    return result\n",
    "\n",
    "print(primorial(1))  # Output: 2\n",
    "print(primorial(2))  # Output: 6\n",
    "print(primorial(8))  # Output: 9699690"
   ]
  },
  {
   "cell_type": "markdown",
   "metadata": {},
   "source": [
    "# Count the Lone Ones"
   ]
  },
  {
   "cell_type": "code",
   "execution_count": 5,
   "metadata": {},
   "outputs": [
    {
     "name": "stdout",
     "output_type": "stream",
     "text": [
      "2\n",
      "1\n",
      "0\n",
      "0\n"
     ]
    }
   ],
   "source": [
    "def count_lone_ones(n):\n",
    "    s = str(n)\n",
    "    count = 0\n",
    "\n",
    "    for i in range(len(s)):\n",
    "        if s[i] == '1':\n",
    "            if (i == 0 or s[i-1] != '1') and (i == len(s) - 1 or s[i+1] != '1'):\n",
    "                count += 1\n",
    "    \n",
    "    return count\n",
    "\n",
    "print(count_lone_ones(101))   # Output: 2\n",
    "print(count_lone_ones(1191))  # Output: 1\n",
    "print(count_lone_ones(1111))  # Output: 0\n",
    "print(count_lone_ones(462))   # Output: 0"
   ]
  },
  {
   "cell_type": "markdown",
   "metadata": {},
   "source": [
    "# Swapping Cards"
   ]
  },
  {
   "cell_type": "code",
   "execution_count": null,
   "metadata": {},
   "outputs": [],
   "source": [
    "def swap_cards(n1, n2):\n",
    "    p1, p2 = divmod(n1, 10) \n",
    "\n",
    "    o1, _ = divmod(n2, 10) \n",
    "    \n",
    "    if p1 < p2:\n",
    "        new_p1 = p1\n",
    "        new_p2 = o1\n",
    "    else:\n",
    "        new_p1 = o1\n",
    "        new_p2 = p2\n",
    "    \n",
    "    new_paul_number = new_p1 * 10 + new_p2\n",
    "    return new_paul_number > n2\n",
    "\n",
    "# Examples\n",
    "print(swap_cards(41, 98))  # Output: True\n",
    "print(swap_cards(12, 28))  # Output: True\n",
    "print(swap_cards(67, 53))  # Output: False\n",
    "print(swap_cards(77, 54))  # Output: False"
   ]
  }
 ],
 "metadata": {
  "kernelspec": {
   "display_name": "Python 3",
   "language": "python",
   "name": "python3"
  },
  "language_info": {
   "codemirror_mode": {
    "name": "ipython",
    "version": 3
   },
   "file_extension": ".py",
   "mimetype": "text/x-python",
   "name": "python",
   "nbconvert_exporter": "python",
   "pygments_lexer": "ipython3",
   "version": "3.11.0"
  }
 },
 "nbformat": 4,
 "nbformat_minor": 2
}
