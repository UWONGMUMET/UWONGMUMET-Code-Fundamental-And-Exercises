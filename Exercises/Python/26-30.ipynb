{
 "cells": [
  {
   "cell_type": "markdown",
   "metadata": {},
   "source": [
    "# Triple Letter Groupings"
   ]
  },
  {
   "cell_type": "code",
   "execution_count": 2,
   "metadata": {},
   "outputs": [
    {
     "name": "stdout",
     "output_type": "stream",
     "text": [
      "['abi', 'bit', 'dab', 'eda']\n",
      "['lap', 'sla']\n",
      "['cli', 'ick', 'lic']\n",
      "['cat']\n",
      "[]\n"
     ]
    }
   ],
   "source": [
    "def three_letter_collection(s):\n",
    "    if len(s) < 3:\n",
    "        return []\n",
    "    \n",
    "    result = []\n",
    "\n",
    "    for i in range(len(s) - 2):\n",
    "        result.append(s[i:i+3])\n",
    "    \n",
    "    result.sort()\n",
    "    return result\n",
    "\n",
    "print(three_letter_collection(\"edabit\")) # ➞ [\"abi\", \"bit\", \"dab\", \"eda\"]\n",
    "print(three_letter_collection(\"slap\"))   # ➞ [\"lap\", \"sla\"]\n",
    "print(three_letter_collection(\"click\"))  # ➞ [\"cli\", \"ick\", \"lic\"]\n",
    "print(three_letter_collection(\"cat\"))    # ➞ [\"cat\"]\n",
    "print(three_letter_collection(\"hi\"))     # ➞ []\n"
   ]
  },
  {
   "cell_type": "markdown",
   "metadata": {},
   "source": [
    "# Find the Missing Letter"
   ]
  },
  {
   "cell_type": "code",
   "execution_count": 4,
   "metadata": {},
   "outputs": [
    {
     "name": "stdout",
     "output_type": "stream",
     "text": [
      "d\n",
      "P\n",
      "y\n",
      "n\n"
     ]
    }
   ],
   "source": [
    "def missing_letter(letters):\n",
    "    for i in range(len(letters) - 1):\n",
    "        if ord(letters[i+1]) - ord(letters[i]) > 1:\n",
    "            return chr(ord(letters[i]) + 1)\n",
    "\n",
    "print(missing_letter([\"a\", \"b\", \"c\", \"e\", \"f\", \"g\"]))  # ➞ \"d\"\n",
    "print(missing_letter([\"O\", \"Q\", \"R\", \"S\"]))            # ➞ \"P\"\n",
    "print(missing_letter([\"t\", \"u\", \"v\", \"w\", \"x\", \"z\"]))  # ➞ \"y\"\n",
    "print(missing_letter([\"m\", \"o\"]))                      # ➞ \"n\""
   ]
  },
  {
   "cell_type": "markdown",
   "metadata": {},
   "source": [
    "# Back and Forth"
   ]
  },
  {
   "cell_type": "code",
   "execution_count": 1,
   "metadata": {},
   "outputs": [
    {
     "name": "stdout",
     "output_type": "stream",
     "text": [
      "<<<\n",
      ">\n",
      "<<\n",
      "\n"
     ]
    }
   ],
   "source": [
    "def calculate_arrowhead(lst):\n",
    "    right = 0\n",
    "    left = 0\n",
    "\n",
    "    for arrow in lst:\n",
    "        right += arrow.count('>')\n",
    "        left += arrow.count('<')\n",
    "\n",
    "    result = right - left\n",
    "\n",
    "    if result > 0:\n",
    "        return '>' * result\n",
    "    elif result < 0:\n",
    "        return '<' * abs(result)\n",
    "    else:\n",
    "        return ''\n",
    "        \n",
    "print(calculate_arrowhead([\">>\", \"<<\", \"<<<\"]))  # ➞ \"<<<\"\n",
    "print(calculate_arrowhead([\">>>>\", \"<\", \"<\", \"<\"]))  # ➞ \">\"\n",
    "print(calculate_arrowhead([\">\", \"<\", \">>\", \"<\", \"<<<\"]))  # ➞ \"<<\"\n",
    "print(calculate_arrowhead([\">>>\", \"<<<\"]))  # ➞ \"\"\n"
   ]
  },
  {
   "cell_type": "markdown",
   "metadata": {},
   "source": [
    "# The Antipodes Average"
   ]
  },
  {
   "cell_type": "code",
   "execution_count": 9,
   "metadata": {},
   "outputs": [
    {
     "name": "stdout",
     "output_type": "stream",
     "text": [
      "[2.5, 2.5]\n",
      "[3.0, 3.0]\n",
      "[-1.5]\n"
     ]
    }
   ],
   "source": [
    "def antipodes_average(lst):\n",
    "    length = len(lst)\n",
    "    mid = length // 2\n",
    "\n",
    "    if length % 2 != 0:\n",
    "        left_part = lst[:mid]\n",
    "        right_part = lst[mid+1:]\n",
    "    else:\n",
    "        left_part = lst[:mid]\n",
    "        right_part = lst[mid:]\n",
    "\n",
    "    right_part_reversed = right_part[::-1]\n",
    "    summed_list = [left_part[i] + right_part_reversed[i] for i in range(mid)]\n",
    "    result = [x / 2 for x in summed_list]\n",
    "    return result\n",
    "\n",
    "print(antipodes_average([1, 2, 3, 4]))        # ➞ [2.5, 2.5]\n",
    "print(antipodes_average([1, 2, 3, 4, 5]))     # ➞ [3, 3]\n",
    "print(antipodes_average([-1, -2]))            # ➞ [-1.5]"
   ]
  },
  {
   "cell_type": "markdown",
   "metadata": {},
   "source": [
    "# A Simple Equation"
   ]
  },
  {
   "cell_type": "code",
   "execution_count": 16,
   "metadata": {},
   "outputs": [
    {
     "name": "stdout",
     "output_type": "stream",
     "text": [
      "1+2=3\n",
      "2+2=4\n",
      "6/2=3\n"
     ]
    }
   ],
   "source": [
    "from itertools import permutations\n",
    "def simple_equation(a, b, c):\n",
    "    perms = permutations([a, b, c])\n",
    "\n",
    "    for perm in perms:\n",
    "        x, y, z = perm\n",
    "\n",
    "        if x + y == z:\n",
    "            return f\"{x}+{y}={z}\"\n",
    "        elif x - y == z:\n",
    "            return f\"{x}-{y}={z}\"\n",
    "        elif x * y == z:\n",
    "            return f\"{x}*{y}={z}\"\n",
    "        elif y != 0 and x / y == z:\n",
    "            return f\"{x}/{y}={z}\"\n",
    "        \n",
    "        if x != 0 and y / x == z:\n",
    "            return f\"{y}/{x}={z}\"\n",
    "    \n",
    "    return \"\"\n",
    "\n",
    "print(simple_equation(1, 2, 3))   # \"1+2=3\" or \"2+1=3\" or \"3-2=1\" or \"3-1=2\"\n",
    "print(simple_equation(2, 2, 4))   # \"2+2=4\" or \"2*2=4\" or \"4/2=2\" or \"4-2=2\"\n",
    "print(simple_equation(6, 2, 3))   # \"2*3=6\" or \"3*2=6\" or \"6/2=3\" or \"6/3=2\"\n"
   ]
  },
  {
   "cell_type": "markdown",
   "metadata": {},
   "source": [
    "# Generate a List of 15 Palindrome Numbers"
   ]
  },
  {
   "cell_type": "code",
   "execution_count": 21,
   "metadata": {},
   "outputs": [
    {
     "name": "stdout",
     "output_type": "stream",
     "text": [
      "[11, 22, 33, 44, 55, 66, 77, 88, 99, 101, 111, 121, 131, 141, 151]\n",
      "[454, 464, 474, 484, 494, 505, 515, 525, 535, 545, 555, 565, 575, 585, 595]\n",
      "[985589, 986689, 987789, 988889, 989989, 990099, 991199, 992299, 993399, 994499, 995599, 996699, 997799, 998899, 999999]\n"
     ]
    }
   ],
   "source": [
    "def generate_palindromes(limit):\n",
    "    palindromes = []\n",
    "    for num in range(limit, 9, -1):\n",
    "        if str(num) == str(num)[::-1]:\n",
    "            palindromes.append(num)\n",
    "        if len(palindromes) == 15:\n",
    "            break\n",
    "    palindromes.sort()\n",
    "    return palindromes\n",
    "\n",
    "print(generate_palindromes(151))  # ➞ [11, 22, 33, 44, 55, 66, 77, 88, 99, 101, 111, 121, 131, 141, 151]\n",
    "print(generate_palindromes(600))  # ➞ [454, 464, 474, 484, 494, 505, 515, 525, 535, 545, 555, 565, 575, 585, 595]\n",
    "print(generate_palindromes(999999))  # ➞ [985589, 986689, 987789, 988889, 989989, 990099, 991199, 992299, 993399, 994499, 995599, 996699, 997799, 998899, 999999]"
   ]
  },
  {
   "cell_type": "markdown",
   "metadata": {},
   "source": [
    "# Just Another Sum Problem But... 😰😱"
   ]
  },
  {
   "cell_type": "code",
   "execution_count": 22,
   "metadata": {},
   "outputs": [
    {
     "name": "stdout",
     "output_type": "stream",
     "text": [
      "-54\n",
      "-195\n",
      "3105\n"
     ]
    }
   ],
   "source": [
    "def just_another_sum_problem(X, Y):\n",
    "    lower = min(X, Y)\n",
    "    upper = max(X, Y)\n",
    "\n",
    "    return sum(range(lower, upper+1))\n",
    "\n",
    "print(just_another_sum_problem(-10, 1))  # ➞ -54\n",
    "print(just_another_sum_problem(-20, 5))  # ➞ -195\n",
    "print(just_another_sum_problem(90, 45))  # ➞ 3105\n"
   ]
  },
  {
   "cell_type": "markdown",
   "metadata": {},
   "source": [
    "# Most Common Last Vowel"
   ]
  },
  {
   "cell_type": "code",
   "execution_count": 25,
   "metadata": {},
   "outputs": [
    {
     "name": "stdout",
     "output_type": "stream",
     "text": [
      "o\n",
      "e\n",
      "i\n"
     ]
    }
   ],
   "source": [
    "def common_last_vowel(sentence):\n",
    "    vowels = 'aiueo'\n",
    "    last_vowel_count = {}\n",
    "\n",
    "    words = sentence.split()\n",
    "\n",
    "    for word in words:\n",
    "        word_lower = word.lower()\n",
    "        last_vowel = ''\n",
    "\n",
    "        for char in reversed(word_lower):\n",
    "            if char in vowels:\n",
    "                last_vowel = char\n",
    "                break\n",
    "        \n",
    "        if last_vowel in last_vowel_count:\n",
    "            last_vowel_count[last_vowel] += 1\n",
    "        else:\n",
    "            last_vowel_count[last_vowel] = 1\n",
    "\n",
    "    \n",
    "    most_common_vowel = max(last_vowel_count, key=last_vowel_count.get)\n",
    "    \n",
    "    return most_common_vowel\n",
    "\n",
    "print(common_last_vowel(\"Hello World!\"))  # ➞ \"o\"\n",
    "print(common_last_vowel(\"Watch the characters dance!\"))  # ➞ \"e\"\n",
    "print(common_last_vowel(\"OOI UUI EEI AAI\"))  # ➞ \"i\""
   ]
  },
  {
   "cell_type": "markdown",
   "metadata": {},
   "source": [
    "# Dice Gambling"
   ]
  },
  {
   "cell_type": "code",
   "execution_count": 28,
   "metadata": {},
   "outputs": [
    {
     "name": "stdout",
     "output_type": "stream",
     "text": [
      "4\n",
      "17\n",
      "9\n"
     ]
    }
   ],
   "source": [
    "def rolls(dice_rolls):\n",
    "    total_sum = 0\n",
    "    next_zero = False\n",
    "    next_double = False\n",
    "\n",
    "    for i, roll in enumerate(dice_rolls):\n",
    "        if next_zero:\n",
    "            roll = 0\n",
    "            next_zero = False\n",
    "        elif next_double:\n",
    "            roll *= 2\n",
    "            next_double = False\n",
    "        \n",
    "        total_sum += roll\n",
    "        \n",
    "        if roll == 1:\n",
    "            next_zero = True\n",
    "        elif roll == 6:\n",
    "            next_double = True\n",
    "    return total_sum\n",
    "\n",
    "print(rolls([1, 2, 3]))  # ➞ 4\n",
    "print(rolls([2, 6, 2, 5]))  # ➞ 17\n",
    "print(rolls([6, 1, 1]))  # ➞ 8"
   ]
  },
  {
   "cell_type": "code",
   "execution_count": 29,
   "metadata": {},
   "outputs": [
    {
     "name": "stdout",
     "output_type": "stream",
     "text": [
      "4\n",
      "17\n",
      "9\n"
     ]
    }
   ],
   "source": [
    "def rolls(dice_rolls):\n",
    "    total_sum = 0\n",
    "    next_zero = False\n",
    "    next_double = False\n",
    "\n",
    "    for i, roll in enumerate(dice_rolls):\n",
    "        if next_zero:\n",
    "            roll = 0\n",
    "            next_zero = False\n",
    "        elif next_double:\n",
    "            roll *= 2\n",
    "            next_double = False\n",
    "        \n",
    "        total_sum += roll\n",
    "        \n",
    "        if roll == 1:\n",
    "            next_zero = True\n",
    "        elif roll == 6:\n",
    "            next_double = True\n",
    "\n",
    "    return total_sum\n",
    "\n",
    "# Examples\n",
    "print(rolls([1, 2, 3]))  # ➞ 4\n",
    "print(rolls([2, 6, 2, 5]))  # ➞ 17\n",
    "print(rolls([6, 1, 1]))  # ➞ 8\n"
   ]
  },
  {
   "cell_type": "markdown",
   "metadata": {},
   "source": [
    "# Maximum Travel Distance"
   ]
  },
  {
   "cell_type": "code",
   "execution_count": 30,
   "metadata": {},
   "outputs": [
    {
     "name": "stdout",
     "output_type": "stream",
     "text": [
      "1000.0\n",
      "331.8\n",
      "807.3\n"
     ]
    }
   ],
   "source": [
    "def total_distance(fuel, fuel_usage, passengers, air_con):\n",
    "    passenger_increase = fuel_usage * 0.05 * passengers\n",
    "\n",
    "    total_fuel_usage = fuel_usage + passenger_increase\n",
    "\n",
    "    if air_con:\n",
    "        total_fuel_usage *= 1.10\n",
    "    \n",
    "    max_distance = (fuel / total_fuel_usage) * 100\n",
    "    return round(max_distance, 1)\n",
    "    \n",
    "print(total_distance(70.0, 7.0, 0, False))  # ➞ 1000.0\n",
    "print(total_distance(36.1, 8.6, 3, True))  # ➞ 331.8\n",
    "print(total_distance(55.5, 5.5, 5, False))  # ➞ 807.3"
   ]
  },
  {
   "cell_type": "markdown",
   "metadata": {},
   "source": [
    "# The Recamán Sequence"
   ]
  },
  {
   "cell_type": "code",
   "execution_count": 36,
   "metadata": {},
   "outputs": [
    {
     "name": "stdout",
     "output_type": "stream",
     "text": [
      "4\n",
      "2\n",
      "5\n"
     ]
    }
   ],
   "source": [
    "def recaman_index(n):\n",
    "    seq = [0]\n",
    "    while True:\n",
    "        last = seq[-1]\n",
    "        next_val = last - len(seq)\n",
    "        if next_val > 0 and next_val not in seq:\n",
    "            seq.append(next_val)\n",
    "        else:\n",
    "            seq.append(last + len(seq))\n",
    "        \n",
    "        if seq[-1] == n:\n",
    "            return len(seq) - 1\n",
    "\n",
    "print(recaman_index(2))  # ➞ 4\n",
    "print(recaman_index(3))  # ➞ 2\n",
    "print(recaman_index(7))  # ➞ 5"
   ]
  },
  {
   "cell_type": "markdown",
   "metadata": {},
   "source": [
    "# Guess the Sequence"
   ]
  },
  {
   "cell_type": "code",
   "execution_count": 37,
   "metadata": {},
   "outputs": [
    {
     "name": "stdout",
     "output_type": "stream",
     "text": [
      "90\n",
      "240\n",
      "450\n"
     ]
    }
   ],
   "source": [
    "def guess_sequence(n):\n",
    "    a = 30\n",
    "    b = 60\n",
    "    c = 0\n",
    "    return a * n * n + b * n + c\n",
    "\n",
    "# Examples\n",
    "print(guess_sequence(1))  # ➞ 90\n",
    "print(guess_sequence(2))  # ➞ 240\n",
    "print(guess_sequence(3))  # ➞ 450\n"
   ]
  },
  {
   "cell_type": "markdown",
   "metadata": {},
   "source": [
    "# The Perrin Sequence"
   ]
  },
  {
   "cell_type": "code",
   "execution_count": 39,
   "metadata": {},
   "outputs": [
    {
     "name": "stdout",
     "output_type": "stream",
     "text": [
      "0\n",
      "10\n",
      "1497\n"
     ]
    }
   ],
   "source": [
    "def perrin(n):\n",
    "    if n == 0:\n",
    "        return 3\n",
    "    elif n == 1:\n",
    "        return 0\n",
    "    elif n == 2:\n",
    "        return 2\n",
    "    \n",
    "    perrin_seq = [3,0,2]\n",
    "    for i in range(3, n+1):\n",
    "        perrin_seq.append(perrin_seq[i-2] + perrin_seq[i-3])\n",
    "    \n",
    "    return perrin_seq[n]\n",
    "\n",
    "print(perrin(1))  # ➞ 0\n",
    "print(perrin(8))  # ➞ 10\n",
    "print(perrin(26))  # ➞ 1497"
   ]
  },
  {
   "cell_type": "markdown",
   "metadata": {},
   "source": [
    "# A Normal Sequence"
   ]
  },
  {
   "cell_type": "code",
   "execution_count": 42,
   "metadata": {},
   "outputs": [
    {
     "name": "stdout",
     "output_type": "stream",
     "text": [
      "0\n",
      "1\n",
      "1\n",
      "2\n"
     ]
    }
   ],
   "source": [
    "def normal_sequence(n):\n",
    "    sequence = [0, 1, 1, 2, 0, 2, 2, 1]\n",
    "    \n",
    "    position = (n - 1) % 8\n",
    "    \n",
    "    return sequence[position]\n",
    "\n",
    "print(normal_sequence(1))  # ➞ 0\n",
    "print(normal_sequence(2))  # ➞ 1\n",
    "print(normal_sequence(3))  # ➞ 1\n",
    "print(normal_sequence(20)) # ➞ 2"
   ]
  },
  {
   "cell_type": "markdown",
   "metadata": {},
   "source": [
    "# Gold Distribution"
   ]
  },
  {
   "cell_type": "code",
   "execution_count": 43,
   "metadata": {},
   "outputs": [
    {
     "name": "stdout",
     "output_type": "stream",
     "text": [
      "[14, 15]\n",
      "[12, 1001]\n",
      "[16, 18]\n"
     ]
    }
   ],
   "source": [
    "def gold_distribution(gold):\n",
    "    mubashir_gold = 0\n",
    "    matt_gold = 0\n",
    "    turn_mubashir = True\n",
    "    \n",
    "    while gold:\n",
    "        if gold[0] >= gold[-1]:\n",
    "            chosen_pile = gold.pop(0)\n",
    "        else:\n",
    "            chosen_pile = gold.pop(-1)\n",
    "        \n",
    "        if turn_mubashir:\n",
    "            mubashir_gold += chosen_pile\n",
    "        else:\n",
    "            matt_gold += chosen_pile\n",
    "        \n",
    "        turn_mubashir = not turn_mubashir\n",
    "    \n",
    "    return [mubashir_gold, matt_gold]\n",
    "\n",
    "print(gold_distribution([4, 2, 9, 5, 2, 7]))  # ➞ [14, 15]\n",
    "print(gold_distribution([10, 1000, 2, 1]))   # ➞ [12, 1001]\n",
    "print(gold_distribution([10, 9, 1, 2, 8, 4])) # ➞ [16, 18]\n"
   ]
  },
  {
   "cell_type": "code",
   "execution_count": null,
   "metadata": {},
   "outputs": [],
   "source": []
  }
 ],
 "metadata": {
  "kernelspec": {
   "display_name": "Python 3",
   "language": "python",
   "name": "python3"
  },
  "language_info": {
   "codemirror_mode": {
    "name": "ipython",
    "version": 3
   },
   "file_extension": ".py",
   "mimetype": "text/x-python",
   "name": "python",
   "nbconvert_exporter": "python",
   "pygments_lexer": "ipython3",
   "version": "3.11.0"
  }
 },
 "nbformat": 4,
 "nbformat_minor": 2
}
