{
 "cells": [
  {
   "cell_type": "markdown",
   "metadata": {},
   "source": [
    "# The Collatz Sequence"
   ]
  },
  {
   "cell_type": "code",
   "execution_count": 4,
   "metadata": {},
   "outputs": [
    {
     "name": "stdout",
     "output_type": "stream",
     "text": [
      "16\n",
      "32\n",
      "256\n"
     ]
    }
   ],
   "source": [
    "def max_collatz(n):\n",
    "    max_value = n  \n",
    "    while n != 1:\n",
    "        if n % 2 == 0:\n",
    "            n = n // 2\n",
    "        else:\n",
    "            n = 3 * n + 1\n",
    "        if n > max_value:\n",
    "            max_value = n\n",
    "    return max_value\n",
    "\n",
    "print(max_collatz(10))  # Output: 16\n",
    "print(max_collatz(32))  # Output: 32\n",
    "print(max_collatz(85))  # Output: 256"
   ]
  },
  {
   "cell_type": "markdown",
   "metadata": {},
   "source": [
    "# Sales by Match"
   ]
  },
  {
   "cell_type": "code",
   "execution_count": 6,
   "metadata": {},
   "outputs": [
    {
     "name": "stdout",
     "output_type": "stream",
     "text": [
      "3\n",
      "4\n",
      "0\n"
     ]
    }
   ],
   "source": [
    "def sock_merchant(socks):\n",
    "    counts = {}\n",
    "\n",
    "    for sock in socks:\n",
    "        if sock in counts:\n",
    "            counts[sock] += 1\n",
    "        else:\n",
    "            counts[sock] = 1\n",
    "    \n",
    "    pairs = 0\n",
    "    for count in counts.values():\n",
    "        pairs += count // 2\n",
    "    \n",
    "    return pairs\n",
    "\n",
    "print(sock_merchant([10, 20, 20, 10, 10, 30, 50, 10, 20]))  # Output: 3\n",
    "print(sock_merchant([50, 20, 30, 90, 30, 20, 50, 20, 90]))  # Output: 4\n",
    "print(sock_merchant([]))  # Output: 0\n"
   ]
  },
  {
   "cell_type": "code",
   "execution_count": 7,
   "metadata": {},
   "outputs": [
    {
     "name": "stdout",
     "output_type": "stream",
     "text": [
      "#HelloWorld\n",
      "False\n",
      "#EdabitIsGreat\n",
      "False\n"
     ]
    }
   ],
   "source": [
    "def generate_hashtag(s):\n",
    "    s = s.strip()\n",
    "    if not s:\n",
    "        return False\n",
    "    \n",
    "    hashtag = '#' + ''.join(word.capitalize() for word in s.split())\n",
    "    \n",
    "    if len(hashtag) > 140:\n",
    "        return False\n",
    "    return hashtag\n",
    "\n",
    "print(generate_hashtag(\"    Hello     World   \"))  # Output: \"#HelloWorld\"\n",
    "print(generate_hashtag(\"\"))  # Output: False\n",
    "print(generate_hashtag(\"Edabit Is Great\"))  # Output: \"#EdabitIsGreat\"\n",
    "print(generate_hashtag(\"a\" * 141))  # Output: False (Too long)"
   ]
  },
  {
   "cell_type": "markdown",
   "metadata": {},
   "source": [
    "# Sum of Negative Integers"
   ]
  },
  {
   "cell_type": "code",
   "execution_count": 9,
   "metadata": {},
   "outputs": [
    {
     "name": "stdout",
     "output_type": "stream",
     "text": [
      "-23\n",
      "-33\n"
     ]
    }
   ],
   "source": [
    "import re\n",
    "\n",
    "def negative_sum(s):\n",
    "    numbers = re.findall(r'-?\\d+', s)\n",
    "    integers = map(int, numbers)\n",
    "    neg_tot = sum(num for num in integers if num < 0)\n",
    "    return neg_tot\n",
    "\n",
    "print(negative_sum(\"-12 13%14&-11\"))  # Output: -23\n",
    "print(negative_sum(\"22 13%14&-11-22 13 12\"))  # Output: -33"
   ]
  },
  {
   "cell_type": "markdown",
   "metadata": {},
   "source": [
    "# Find the Difference"
   ]
  },
  {
   "cell_type": "code",
   "execution_count": 10,
   "metadata": {},
   "outputs": [
    {
     "name": "stdout",
     "output_type": "stream",
     "text": [
      "e\n",
      "y\n",
      "a\n"
     ]
    }
   ],
   "source": [
    "def find_the_difference(s, t):\n",
    "    sum_s = sum(ord(char) for char in s)\n",
    "    sum_t = sum(ord(char) for char in t)\n",
    "\n",
    "    return chr(sum_t - sum_s)\n",
    "\n",
    "print(find_the_difference(\"abcd\", \"abcde\"))  # Output: \"e\"\n",
    "print(find_the_difference(\"\", \"y\"))           # Output: \"y\"\n",
    "print(find_the_difference(\"ae\", \"aea\"))       # Output: \"a\"\n"
   ]
  },
  {
   "cell_type": "code",
   "execution_count": null,
   "metadata": {},
   "outputs": [],
   "source": []
  }
 ],
 "metadata": {
  "kernelspec": {
   "display_name": "Python 3",
   "language": "python",
   "name": "python3"
  },
  "language_info": {
   "codemirror_mode": {
    "name": "ipython",
    "version": 3
   },
   "file_extension": ".py",
   "mimetype": "text/x-python",
   "name": "python",
   "nbconvert_exporter": "python",
   "pygments_lexer": "ipython3",
   "version": "3.11.0"
  }
 },
 "nbformat": 4,
 "nbformat_minor": 2
}
