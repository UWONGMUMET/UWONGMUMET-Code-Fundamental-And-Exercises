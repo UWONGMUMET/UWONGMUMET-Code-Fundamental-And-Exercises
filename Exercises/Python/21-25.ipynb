{
 "cells": [
  {
   "cell_type": "markdown",
   "metadata": {},
   "source": [
    "# Generate a List of 15 Palindrome Numbers"
   ]
  },
  {
   "cell_type": "code",
   "execution_count": 1,
   "metadata": {},
   "outputs": [
    {
     "name": "stdout",
     "output_type": "stream",
     "text": [
      "[11, 22, 33, 44, 55, 66, 77, 88, 99, 101, 111, 121, 131, 141, 151]\n",
      "[454, 464, 474, 484, 494, 505, 515, 525, 535, 545, 555, 565, 575, 585, 595]\n",
      "[985589, 986689, 987789, 988889, 989989, 990099, 991199, 992299, 993399, 994499, 995599, 996699, 997799, 998899, 999999]\n"
     ]
    }
   ],
   "source": [
    "def generate_palindromes(limit):\n",
    "    palindromes = []\n",
    "    for num in range(limit, 9, -1):\n",
    "        if str(num) == str(num)[::-1]:\n",
    "            palindromes.append(num)\n",
    "        if len(palindromes) == 15:\n",
    "            break\n",
    "    palindromes.sort()\n",
    "    return palindromes\n",
    "\n",
    "print(generate_palindromes(151))  # ➞ [11, 22, 33, 44, 55, 66, 77, 88, 99, 101, 111, 121, 131, 141, 151]\n",
    "print(generate_palindromes(600))  # ➞ [454, 464, 474, 484, 494, 505, 515, 525, 535, 545, 555, 565, 575, 585, 595]\n",
    "print(generate_palindromes(999999))  # ➞ [985589, 986689, 987789, 988889, 989989, 990099, 991199, 992299, 993399, 994499, 995599, 996699, 997799, 998899, 999999]"
   ]
  },
  {
   "cell_type": "markdown",
   "metadata": {},
   "source": [
    "# Just Another Sum Problem But... 😰😱"
   ]
  },
  {
   "cell_type": "code",
   "execution_count": 2,
   "metadata": {},
   "outputs": [
    {
     "name": "stdout",
     "output_type": "stream",
     "text": [
      "-54\n",
      "-195\n",
      "3105\n"
     ]
    }
   ],
   "source": [
    "def just_another_sum_problem(X, Y):\n",
    "    lower = min(X, Y)\n",
    "    upper = max(X, Y)\n",
    "\n",
    "    return sum(range(lower, upper+1))\n",
    "\n",
    "print(just_another_sum_problem(-10, 1))  # ➞ -54\n",
    "print(just_another_sum_problem(-20, 5))  # ➞ -195\n",
    "print(just_another_sum_problem(90, 45))  # ➞ 3105"
   ]
  },
  {
   "cell_type": "markdown",
   "metadata": {},
   "source": [
    "# Most Common Last Vowel"
   ]
  },
  {
   "cell_type": "code",
   "execution_count": 3,
   "metadata": {},
   "outputs": [
    {
     "name": "stdout",
     "output_type": "stream",
     "text": [
      "o\n",
      "e\n",
      "i\n"
     ]
    }
   ],
   "source": [
    "def common_last_vowel(sentence):\n",
    "    vowels = 'aiueo'\n",
    "    last_vowel_count = {}\n",
    "\n",
    "    words = sentence.split()\n",
    "\n",
    "    for word in words:\n",
    "        word_lower = word.lower()\n",
    "        last_vowel = ''\n",
    "\n",
    "        for char in reversed(word_lower):\n",
    "            if char in vowels:\n",
    "                last_vowel = char\n",
    "                break\n",
    "        \n",
    "        if last_vowel in last_vowel_count:\n",
    "            last_vowel_count[last_vowel] += 1\n",
    "        else:\n",
    "            last_vowel_count[last_vowel] = 1\n",
    "\n",
    "    \n",
    "    most_common_vowel = max(last_vowel_count, key=last_vowel_count.get)\n",
    "    \n",
    "    return most_common_vowel\n",
    "\n",
    "print(common_last_vowel(\"Hello World!\"))  # ➞ \"o\"\n",
    "print(common_last_vowel(\"Watch the characters dance!\"))  # ➞ \"e\"\n",
    "print(common_last_vowel(\"OOI UUI EEI AAI\"))  # ➞ \"i\""
   ]
  },
  {
   "cell_type": "markdown",
   "metadata": {},
   "source": [
    "# Dice Gambling"
   ]
  },
  {
   "cell_type": "code",
   "execution_count": 4,
   "metadata": {},
   "outputs": [
    {
     "name": "stdout",
     "output_type": "stream",
     "text": [
      "4\n",
      "17\n",
      "9\n"
     ]
    }
   ],
   "source": [
    "def rolls(dice_rolls):\n",
    "    total_sum = 0\n",
    "    next_zero = False\n",
    "    next_double = False\n",
    "\n",
    "    for i, roll in enumerate(dice_rolls):\n",
    "        if next_zero:\n",
    "            roll = 0\n",
    "            next_zero = False\n",
    "        elif next_double:\n",
    "            roll *= 2\n",
    "            next_double = False\n",
    "        \n",
    "        total_sum += roll\n",
    "        \n",
    "        if roll == 1:\n",
    "            next_zero = True\n",
    "        elif roll == 6:\n",
    "            next_double = True\n",
    "\n",
    "    return total_sum\n",
    "\n",
    "# Examples\n",
    "print(rolls([1, 2, 3]))  # ➞ 4\n",
    "print(rolls([2, 6, 2, 5]))  # ➞ 17\n",
    "print(rolls([6, 1, 1]))  # ➞ 8\n"
   ]
  },
  {
   "cell_type": "markdown",
   "metadata": {},
   "source": [
    "# Maximum Travel Distance"
   ]
  },
  {
   "cell_type": "code",
   "execution_count": 5,
   "metadata": {},
   "outputs": [
    {
     "name": "stdout",
     "output_type": "stream",
     "text": [
      "1000.0\n",
      "331.8\n",
      "807.3\n"
     ]
    }
   ],
   "source": [
    "def total_distance(fuel, fuel_usage, passengers, air_con):\n",
    "    passenger_increase = fuel_usage * 0.05 * passengers\n",
    "\n",
    "    total_fuel_usage = fuel_usage + passenger_increase\n",
    "\n",
    "    if air_con:\n",
    "        total_fuel_usage *= 1.10\n",
    "    \n",
    "    max_distance = (fuel / total_fuel_usage) * 100\n",
    "    return round(max_distance, 1)\n",
    "    \n",
    "print(total_distance(70.0, 7.0, 0, False))  # ➞ 1000.0\n",
    "print(total_distance(36.1, 8.6, 3, True))  # ➞ 331.8\n",
    "print(total_distance(55.5, 5.5, 5, False))  # ➞ 807.3"
   ]
  },
  {
   "cell_type": "code",
   "execution_count": null,
   "metadata": {},
   "outputs": [],
   "source": []
  }
 ],
 "metadata": {
  "kernelspec": {
   "display_name": "Python 3",
   "language": "python",
   "name": "python3"
  },
  "language_info": {
   "codemirror_mode": {
    "name": "ipython",
    "version": 3
   },
   "file_extension": ".py",
   "mimetype": "text/x-python",
   "name": "python",
   "nbconvert_exporter": "python",
   "pygments_lexer": "ipython3",
   "version": "3.11.0"
  }
 },
 "nbformat": 4,
 "nbformat_minor": 2
}
