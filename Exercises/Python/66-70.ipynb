{
 "cells": [
  {
   "cell_type": "markdown",
   "metadata": {},
   "source": [
    "# Stock Picker"
   ]
  },
  {
   "cell_type": "code",
   "execution_count": 3,
   "metadata": {},
   "outputs": [
    {
     "name": "stdout",
     "output_type": "stream",
     "text": [
      "5\n",
      "8\n",
      "-1\n"
     ]
    }
   ],
   "source": [
    "def stock_picker(prices):\n",
    "    if len(prices) < 2:\n",
    "        return -1\n",
    "    \n",
    "    min_price = prices[0]\n",
    "    max_profit = -1\n",
    "\n",
    "    for price in prices[1:]:\n",
    "        profit_temp = price - min_price\n",
    "        if profit_temp > max_profit:\n",
    "            max_profit = profit_temp\n",
    "        \n",
    "        if price < min_price:\n",
    "            min_price = price\n",
    "\n",
    "    return max_profit\n",
    "print(stock_picker([10, 12, 4, 5, 9]))  # ➞ 5\n",
    "print(stock_picker([14, 20, 4, 12, 5, 11]))  # ➞ 8\n",
    "print(stock_picker([80, 60, 10, 8]))  # ➞ -1\n"
   ]
  },
  {
   "cell_type": "markdown",
   "metadata": {},
   "source": [
    "# Algorithms III: Binary Search"
   ]
  },
  {
   "cell_type": "code",
   "execution_count": 4,
   "metadata": {},
   "outputs": [
    {
     "name": "stdout",
     "output_type": "stream",
     "text": [
      "True\n",
      "False\n",
      "True\n"
     ]
    }
   ],
   "source": [
    "def binary_search(arr, left, right, elem):\n",
    "    if left > right:\n",
    "        return False\n",
    "    \n",
    "    middle = (left + right) // 2\n",
    "\n",
    "    if arr[middle] == elem:\n",
    "        return True\n",
    "    elif arr[middle] < elem:\n",
    "        return binary_search(arr, middle + 1, right, elem)\n",
    "    else:\n",
    "        return binary_search(arr, left, middle - 1, elem)\n",
    "    \n",
    "print(binary_search([0, 1, 2, 3, 4, 5, 6, 7, 8, 9, 10], 0, 10, 7))  # ➞ True\n",
    "print(binary_search([1, 11, 14, 15, 32, 64, 67, 88, 92, 94], 0, 9, 12))  # ➞ False\n",
    "print(binary_search([3, 6, 9, 12, 15, 18, 21, 24, 27, 30], 0, 9, 27))  # ➞ True\n"
   ]
  },
  {
   "cell_type": "markdown",
   "metadata": {},
   "source": [
    "# Matrix Transpose"
   ]
  },
  {
   "cell_type": "code",
   "execution_count": 5,
   "metadata": {},
   "outputs": [
    {
     "name": "stdout",
     "output_type": "stream",
     "text": [
      "[[1, 4, 7], [2, 5, 8], [3, 6, 9]]\n",
      "[[1, 3, 5], [2, 4, 6]]\n",
      "[['a'], ['b']]\n"
     ]
    }
   ],
   "source": [
    "def makeTranspose(matrix):\n",
    "    return [list(x) for x in zip(*matrix)]\n",
    "\n",
    "print(makeTranspose([\n",
    "  [1, 2, 3],\n",
    "  [4, 5, 6],\n",
    "  [7, 8, 9]\n",
    "]))  # ➞ [[1, 4, 7], [2, 5, 8], [3, 6, 9]]\n",
    "\n",
    "print(makeTranspose([\n",
    "  [1, 2],\n",
    "  [3, 4],\n",
    "  [5, 6]\n",
    "]))  # ➞ [[1, 3, 5], [2, 4, 6]]\n",
    "\n",
    "print(makeTranspose([\n",
    "  [\"a\", \"b\"]\n",
    "]))  # ➞ [['a'], ['b']]\n"
   ]
  },
  {
   "cell_type": "markdown",
   "metadata": {},
   "source": [
    "# How Many \"Prime Numbers\" Are There?"
   ]
  },
  {
   "cell_type": "code",
   "execution_count": 8,
   "metadata": {},
   "outputs": [
    {
     "name": "stdout",
     "output_type": "stream",
     "text": [
      "4\n",
      "8\n",
      "10\n"
     ]
    }
   ],
   "source": [
    "import math\n",
    "\n",
    "def is_prime(n):\n",
    "    if n <= 1:\n",
    "        return False\n",
    "    if n <= 3:\n",
    "        return True\n",
    "    if n % 2 == 0 or n % 3 == 0:\n",
    "        return False\n",
    "    i = 5\n",
    "    while i * i <= n:\n",
    "        if n % i == 0 or n % (i + 2) == 0:\n",
    "            return False\n",
    "        i+=6\n",
    "    return True\n",
    "\n",
    "def prime_numbers(up_to):\n",
    "    count = 0\n",
    "    for num in range(2, up_to + 1):\n",
    "        if is_prime(num):\n",
    "            count += 1\n",
    "    return count\n",
    "\n",
    "print(prime_numbers(10))  # ➞ 4\n",
    "print(prime_numbers(20))  # ➞ 8\n",
    "print(prime_numbers(30))  # ➞ 10\n"
   ]
  },
  {
   "cell_type": "markdown",
   "metadata": {},
   "source": [
    "# Sum of Round Numbers"
   ]
  },
  {
   "cell_type": "code",
   "execution_count": 9,
   "metadata": {},
   "outputs": [
    {
     "name": "stdout",
     "output_type": "stream",
     "text": [
      "100 1\n",
      "1000 200 30 4\n",
      "50000 4000 200 10\n"
     ]
    }
   ],
   "source": [
    "def sum_round(num):\n",
    "    num_str = str(num)\n",
    "    length = len(num_str)\n",
    "\n",
    "    result = []\n",
    "\n",
    "    for i, digit in enumerate(num_str):\n",
    "        if digit != '0':\n",
    "            round_num = int(digit) * (10 ** (length - i - 1))\n",
    "            result.append(str(round_num))\n",
    "    \n",
    "    return ' '.join(result)\n",
    "\n",
    "print(sum_round(101))   # ➞ \"1 100\"\n",
    "print(sum_round(1234))  # ➞ \"4 30 200 1000\"\n",
    "print(sum_round(54210)) # ➞ \"10 200 4000 50000\""
   ]
  }
 ],
 "metadata": {
  "kernelspec": {
   "display_name": "Python 3",
   "language": "python",
   "name": "python3"
  },
  "language_info": {
   "codemirror_mode": {
    "name": "ipython",
    "version": 3
   },
   "file_extension": ".py",
   "mimetype": "text/x-python",
   "name": "python",
   "nbconvert_exporter": "python",
   "pygments_lexer": "ipython3",
   "version": "3.11.0"
  }
 },
 "nbformat": 4,
 "nbformat_minor": 2
}
