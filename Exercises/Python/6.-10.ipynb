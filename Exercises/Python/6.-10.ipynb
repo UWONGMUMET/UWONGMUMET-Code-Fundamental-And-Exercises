{
 "cells": [
  {
   "cell_type": "markdown",
   "metadata": {},
   "source": [
    "# The Fizz Buzz Test"
   ]
  },
  {
   "cell_type": "code",
   "execution_count": 3,
   "metadata": {},
   "outputs": [
    {
     "name": "stdout",
     "output_type": "stream",
     "text": [
      "[1, 2, 'Fizz', 4, 'Buzz', 'Fizz', 7, 8, 'Fizz', 'Buzz']\n",
      "[1, 2, 'Fizz', 4, 'Buzz', 'Fizz', 7, 8, 'Fizz', 'Buzz', 11, 'Fizz', 13, 14, 'FizzBuzz']\n"
     ]
    }
   ],
   "source": [
    "def fizz_buzz(n):\n",
    "    return [\"FizzBuzz\" if i % 3 == 0 and i % 5 == 0 else \"Fizz\" if i % 3 == 0 else \"Buzz\" if i % 5 == 0 else i for i in range(1, n+1)]\n",
    "\n",
    "print(fizz_buzz(10))  # Output: [1, 2, \"Fizz\", 4, \"Buzz\", \"Fizz\", 7, 8, \"Fizz\", \"Buzz\"]\n",
    "print(fizz_buzz(15))  # Output: [1, 2, \"Fizz\", 4, \"Buzz\", \"Fizz\", 7, 8, \"Fizz\", \"Buzz\", 11, \"Fizz\", 13, 14, \"FizzBuzz\"]\n"
   ]
  },
  {
   "cell_type": "markdown",
   "metadata": {},
   "source": [
    "# Reverse Coding Challenge #6"
   ]
  },
  {
   "cell_type": "code",
   "execution_count": 1,
   "metadata": {},
   "outputs": [
    {
     "name": "stdout",
     "output_type": "stream",
     "text": [
      "10\n",
      "48\n",
      "9\n",
      "9\n"
     ]
    }
   ],
   "source": [
    "def mystery_func(n):\n",
    "    result = 1\n",
    "    for digit in str(n):\n",
    "        result *= int(digit)\n",
    "    return result\n",
    "\n",
    "print(mystery_func(152))  # ➞ 10\n",
    "print(mystery_func(832))  # ➞ 48\n",
    "print(mystery_func(19))   # ➞ 9\n",
    "print(mystery_func(133))  # ➞ 9\n"
   ]
  },
  {
   "cell_type": "markdown",
   "metadata": {},
   "source": [
    "# Don't Roll Doubles!"
   ]
  },
  {
   "cell_type": "code",
   "execution_count": 2,
   "metadata": {},
   "outputs": [
    {
     "name": "stdout",
     "output_type": "stream",
     "text": [
      "21\n",
      "0\n",
      "27\n"
     ]
    }
   ],
   "source": [
    "def dice_game(rolls):\n",
    "    result = 0\n",
    "    for roll in rolls:\n",
    "        if roll[0] == roll[1]:\n",
    "            return 0\n",
    "        result += sum(roll)\n",
    "    return result\n",
    "\n",
    "print(dice_game([(1, 2), (3, 4), (5, 6)]))  # ➞ 21\n",
    "print(dice_game([(1, 1), (5, 6), (6, 4)]))  # ➞ 0\n",
    "print(dice_game([(4, 5), (4, 5), (4, 5)]))  # ➞ 27"
   ]
  },
  {
   "cell_type": "markdown",
   "metadata": {},
   "source": [
    "# Unusual Subtraction"
   ]
  },
  {
   "cell_type": "code",
   "execution_count": 3,
   "metadata": {},
   "outputs": [
    {
     "name": "stdout",
     "output_type": "stream",
     "text": [
      "4\n",
      "99999991\n",
      "417\n"
     ]
    }
   ],
   "source": [
    "def not_good_math(n, k):\n",
    "    for i in range(k):\n",
    "        if n % 10 == 0:\n",
    "            n //= 10\n",
    "        n -= 1\n",
    "    return n\n",
    "\n",
    "print(not_good_math(540, 5))\n",
    "print(not_good_math(1000000000, 9))\n",
    "print(not_good_math(42023110, 10))"
   ]
  },
  {
   "cell_type": "markdown",
   "metadata": {},
   "source": [
    "# Find The Largest Even Number"
   ]
  },
  {
   "cell_type": "code",
   "execution_count": 4,
   "metadata": {},
   "outputs": [
    {
     "name": "stdout",
     "output_type": "stream",
     "text": [
      "10\n",
      "-1\n",
      "0\n"
     ]
    }
   ],
   "source": [
    "def largest_even(numbers):\n",
    "    largest = -1\n",
    "    for num in numbers:\n",
    "        if num % 2 == 0:\n",
    "            if num > largest:\n",
    "                largest = num\n",
    "    return largest\n",
    "\n",
    "print(largest_even([3, 7, 2, 1, 7, 9, 10, 13]))  # ➞ 10\n",
    "print(largest_even([1, 3, 5, 7]))  # ➞ -1\n",
    "print(largest_even([0, 19, 18973623]))  # ➞ 0\n"
   ]
  },
  {
   "cell_type": "code",
   "execution_count": null,
   "metadata": {},
   "outputs": [],
   "source": []
  }
 ],
 "metadata": {
  "kernelspec": {
   "display_name": "Python 3",
   "language": "python",
   "name": "python3"
  },
  "language_info": {
   "codemirror_mode": {
    "name": "ipython",
    "version": 3
   },
   "file_extension": ".py",
   "mimetype": "text/x-python",
   "name": "python",
   "nbconvert_exporter": "python",
   "pygments_lexer": "ipython3",
   "version": "3.11.0"
  }
 },
 "nbformat": 4,
 "nbformat_minor": 2
}
