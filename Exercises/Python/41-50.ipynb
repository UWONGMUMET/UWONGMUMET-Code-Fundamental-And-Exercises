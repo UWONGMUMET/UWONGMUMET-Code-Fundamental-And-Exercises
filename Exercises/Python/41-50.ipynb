{
 "cells": [
  {
   "cell_type": "markdown",
   "metadata": {},
   "source": [
    "# Sum of Slices of a List (Part 1)"
   ]
  },
  {
   "cell_type": "code",
   "execution_count": 4,
   "metadata": {},
   "outputs": [
    {
     "name": "stdout",
     "output_type": "stream",
     "text": [
      "[17, 29, 17, 100, 100]\n",
      "[99, 10, 10]\n",
      "[13]\n"
     ]
    }
   ],
   "source": [
    "def sum_of_slices(lst):\n",
    "    result = []\n",
    "    current_sum = 0\n",
    "\n",
    "    for num in lst:\n",
    "        if current_sum + num > 100:\n",
    "            result.append(num)\n",
    "            current_sum = num\n",
    "        else:\n",
    "            current_sum += num\n",
    "\n",
    "        if num >= 100:\n",
    "            result.append(num)\n",
    "            current_sum = 0\n",
    "    \n",
    "    if current_sum > 0:\n",
    "        result.append(current_sum)\n",
    "    \n",
    "    return result\n",
    "\n",
    "print(sum_of_slices([10, 29, 13, 14, 15, 16, 17, 31, 20, 10, 29, 13, 14, 15, 16, 17, 31, 20, 100]))  # ➞ [97, 78, 87, 68, 100]\n",
    "print(sum_of_slices([58, 3, 38, 99, 10]))  # ➞ [99, 99, 10]\n",
    "print(sum_of_slices([13]))  # ➞ [13]"
   ]
  },
  {
   "cell_type": "markdown",
   "metadata": {},
   "source": [
    "# Trailing Zeros"
   ]
  },
  {
   "cell_type": "code",
   "execution_count": 5,
   "metadata": {},
   "outputs": [
    {
     "name": "stdout",
     "output_type": "stream",
     "text": [
      "0\n",
      "1\n",
      "249\n"
     ]
    }
   ],
   "source": [
    "def trailing_zeros(n):\n",
    "    count = 0\n",
    "    power_of_5 = 5\n",
    "    while n >= power_of_5:\n",
    "        count += n // power_of_5\n",
    "        power_of_5 *= 5\n",
    "    return count\n",
    "\n",
    "print(trailing_zeros(0))   # ➞ 0\n",
    "print(trailing_zeros(6))   # ➞ 1\n",
    "print(trailing_zeros(1000)) # ➞ 249"
   ]
  },
  {
   "cell_type": "markdown",
   "metadata": {},
   "source": [
    "# Is the Sequence Linear, Quadratic or Cubic?"
   ]
  },
  {
   "cell_type": "code",
   "execution_count": 6,
   "metadata": {},
   "outputs": [
    {
     "name": "stdout",
     "output_type": "stream",
     "text": [
      "Linear\n",
      "Quadratic\n",
      "Cubic\n"
     ]
    }
   ],
   "source": [
    "def seq_level(*sequence):\n",
    "    def differences(seq):\n",
    "        return [seq[i+1] - seq[i] for i in range(len(seq)-1)]\n",
    "    \n",
    "    first_diff = differences(sequence)\n",
    "    if all(x == first_diff[0] for x in first_diff):\n",
    "        return \"Linear\"\n",
    "    \n",
    "    second_diff = differences(first_diff)\n",
    "    if all(x == second_diff[0] for x in second_diff):\n",
    "        return \"Quadratic\"\n",
    "    \n",
    "    third_diff = differences(second_diff)\n",
    "    if all(x == third_diff[0] for x in third_diff):\n",
    "        return \"Cubic\"\n",
    "    \n",
    "    return \"Unknown\"\n",
    "\n",
    "# Examples\n",
    "print(seq_level(1, 2, 3, 4, 5))         # ➞ \"Linear\"\n",
    "print(seq_level(3, 6, 10, 15, 21))      # ➞ \"Quadratic\"\n",
    "print(seq_level(4, 14, 40, 88, 164))    # ➞ \"Cubic\""
   ]
  },
  {
   "cell_type": "markdown",
   "metadata": {},
   "source": [
    "# Simple Row Sum"
   ]
  },
  {
   "cell_type": "code",
   "execution_count": 7,
   "metadata": {},
   "outputs": [
    {
     "name": "stdout",
     "output_type": "stream",
     "text": [
      "1\n",
      "5\n",
      "34\n"
     ]
    }
   ],
   "source": [
    "def row_sum(n):\n",
    "    first_number = (n * (n - 1)) // 2 + 1\n",
    "    last_number = first_number + (n - 1)\n",
    "    sum_of_row = (n * (first_number + last_number)) // 2\n",
    "    return sum_of_row\n",
    "\n",
    "print(row_sum(1))  # ➞ 1\n",
    "print(row_sum(2))  # ➞ 5\n",
    "print(row_sum(4))  # ➞ 34"
   ]
  },
  {
   "cell_type": "markdown",
   "metadata": {},
   "source": [
    "# Algorithms: Binary Search"
   ]
  },
  {
   "cell_type": "code",
   "execution_count": 2,
   "metadata": {},
   "outputs": [
    {
     "name": "stdout",
     "output_type": "stream",
     "text": [
      "Yes\n",
      "No\n",
      "Yes\n",
      "No\n"
     ]
    }
   ],
   "source": [
    "def is_prime(primes, target):\n",
    "    bot, up = 0, len(primes) - 1\n",
    "    while bot <= up:\n",
    "        mid = (bot + up) // 2\n",
    "        if primes[mid] == target:\n",
    "            return \"yes\"\n",
    "        elif primes[mid] > target:\n",
    "            up = mid - 1\n",
    "        else:\n",
    "            bot = mid + 1\n",
    "    return \"no\"\n",
    "\n",
    "primes = [2, 3, 5, 7, 11, 13, 17, 19, 23, 29, 31, 37, 41, 43, 47, 53, 59, 61, 67, 71, 73, 79, 83, 89, 97]\n",
    "\n",
    "print(is_prime(primes, 3))  # ➞ \"yes\"\n",
    "print(is_prime(primes, 4))  # ➞ \"no\"\n",
    "print(is_prime(primes, 67)) # ➞ \"yes\"\n",
    "print(is_prime(primes, 36)) # ➞ \"no\""
   ]
  },
  {
   "cell_type": "code",
   "execution_count": null,
   "metadata": {},
   "outputs": [],
   "source": []
  }
 ],
 "metadata": {
  "kernelspec": {
   "display_name": "Python 3",
   "language": "python",
   "name": "python3"
  },
  "language_info": {
   "codemirror_mode": {
    "name": "ipython",
    "version": 3
   },
   "file_extension": ".py",
   "mimetype": "text/x-python",
   "name": "python",
   "nbconvert_exporter": "python",
   "pygments_lexer": "ipython3",
   "version": "3.11.0"
  }
 },
 "nbformat": 4,
 "nbformat_minor": 2
}
