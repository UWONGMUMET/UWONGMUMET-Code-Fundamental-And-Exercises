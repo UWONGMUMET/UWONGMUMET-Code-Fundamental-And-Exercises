{
 "cells": [
  {
   "cell_type": "markdown",
   "metadata": {},
   "source": [
    "# What's the Length of the Missing List?"
   ]
  },
  {
   "cell_type": "code",
   "execution_count": 2,
   "metadata": {},
   "outputs": [
    {
     "name": "stdout",
     "output_type": "stream",
     "text": [
      "3\n",
      "3\n",
      "2\n",
      "False\n",
      "False\n"
     ]
    }
   ],
   "source": [
    "def find_missing(lst):\n",
    "    if not lst or any(not sublist for sublist in lst):\n",
    "        return False\n",
    "\n",
    "    length = [len(sublist) for sublist in lst]\n",
    "    expected = sum(range(min(length), max(length) + 1))\n",
    "    actual = sum(length)\n",
    "\n",
    "    return expected - actual\n",
    "    \n",
    "\n",
    "print(find_missing([[1], [1, 2], [4, 5, 1, 1], [5, 6, 7, 8, 9]]))  # ➞ 3\n",
    "print(find_missing([[5, 6, 7, 8, 9], [1, 2], [4, 5, 1, 1], [1]]))  # ➞ 3\n",
    "print(find_missing([[4, 4, 4, 4], [1], [3, 3, 3]]))  # ➞ 2\n",
    "print(find_missing([]))  # ➞ False\n",
    "print(find_missing([[1, 2], [], [3]]))  # ➞ False"
   ]
  },
  {
   "cell_type": "markdown",
   "metadata": {},
   "source": [
    "# Determinant of Square Matrix"
   ]
  },
  {
   "cell_type": "code",
   "execution_count": 3,
   "metadata": {},
   "outputs": [
    {
     "name": "stdout",
     "output_type": "stream",
     "text": [
      "-1\n",
      "69\n",
      "0\n"
     ]
    }
   ],
   "source": [
    "def get_det(matrix):\n",
    "    if len(matrix) == 2:\n",
    "        return matrix[0][0] * matrix[1][1] - matrix[0][1] * matrix[1][0]\n",
    "\n",
    "    determinant = 0\n",
    "    for c in range(len(matrix)):\n",
    "        sub_matrix = [row[:c] + row[c+1:] for row in matrix[1:]]\n",
    "        determinant += ((-1) ** c) * matrix[0][c] * get_det(sub_matrix)\n",
    "    \n",
    "    return determinant\n",
    "\n",
    "print(get_det([\n",
    "  [0, 1],\n",
    "  [1, 1]\n",
    "]))  # ➞ -1\n",
    "\n",
    "print(get_det([\n",
    "  [69, 0],\n",
    "  [1, 1]\n",
    "]))  # ➞ 69\n",
    "\n",
    "print(get_det([\n",
    "  [1, 2, 3],\n",
    "  [4, 5, 6],\n",
    "  [7, 8, 9]\n",
    "]))  # ➞ 0"
   ]
  },
  {
   "cell_type": "markdown",
   "metadata": {},
   "source": [
    "# Sieve of Eratosthenes\n"
   ]
  },
  {
   "cell_type": "code",
   "execution_count": 4,
   "metadata": {},
   "outputs": [
    {
     "name": "stdout",
     "output_type": "stream",
     "text": [
      "[]\n",
      "[2, 3, 5, 7]\n",
      "[2, 3, 5, 7, 11, 13, 17, 19]\n",
      "[]\n"
     ]
    }
   ],
   "source": [
    "def eratosthenes(num):\n",
    "    if num < 2:\n",
    "        return []\n",
    "\n",
    "    primes = [True] * (num + 1)\n",
    "    primes[0] = primes[1] = False  #\n",
    "    \n",
    "    for i in range(2, int(num**0.5) + 1):\n",
    "        if primes[i]:\n",
    "            for j in range(i * i, num + 1, i):\n",
    "                primes[j] = False\n",
    "\n",
    "    return [i for i, is_prime in enumerate(primes) if is_prime]\n",
    "\n",
    "print(eratosthenes(1))   # ➞ []\n",
    "print(eratosthenes(10))  # ➞ [2, 3, 5, 7]\n",
    "print(eratosthenes(20))  # ➞ [2, 3, 5, 7, 11, 13, 17, 19]\n",
    "print(eratosthenes(0))   # ➞ []"
   ]
  },
  {
   "cell_type": "markdown",
   "metadata": {},
   "source": [
    "# Get Free Wi-Fi Anywhere You Go\n"
   ]
  },
  {
   "cell_type": "code",
   "execution_count": 5,
   "metadata": {},
   "outputs": [
    {
     "name": "stdout",
     "output_type": "stream",
     "text": [
      "3\n",
      "1\n",
      "0\n"
     ]
    }
   ],
   "source": [
    "def nonstop_hotspot(s):\n",
    "    p_index = s.index('P')\n",
    "    \n",
    "    left_side = s[:p_index]\n",
    "    left_hotspots = left_side.split('#')[-1].count('*')\n",
    "    right_side = s[p_index+1:]\n",
    "    right_hotspots = right_side.split('#')[0].count('*')\n",
    "\n",
    "    return left_hotspots + right_hotspots\n",
    "\n",
    "print(nonstop_hotspot(\"*   P  *   *\"))        # ➞ 3\n",
    "print(nonstop_hotspot(\"*  * #  * P # * #\"))   # ➞ 1\n",
    "print(nonstop_hotspot(\"***#P#***\"))           # ➞ 0"
   ]
  },
  {
   "cell_type": "markdown",
   "metadata": {},
   "source": [
    "# Find the Single Number"
   ]
  },
  {
   "cell_type": "code",
   "execution_count": 6,
   "metadata": {},
   "outputs": [
    {
     "name": "stdout",
     "output_type": "stream",
     "text": [
      "3\n",
      "99\n",
      "20\n"
     ]
    }
   ],
   "source": [
    "def single_number(nums):\n",
    "    ones, twos = 0, 0\n",
    "    \n",
    "    for num in nums:\n",
    "        twos |= ones & num\n",
    "\n",
    "        ones ^= num\n",
    "\n",
    "        common_bit_mask = ~(ones & twos)\n",
    "\n",
    "        ones &= common_bit_mask\n",
    "        twos &= common_bit_mask\n",
    "    \n",
    "    return ones\n",
    "\n",
    "print(single_number([2, 2, 3, 2]))           # ➞ 3\n",
    "print(single_number([0, 1, 0, 1, 0, 1, 99])) # ➞ 99\n",
    "print(single_number([-1, 2, -4, 20, -1, 2, -4, -4, 2, -1]))  # ➞ 20"
   ]
  },
  {
   "cell_type": "code",
   "execution_count": null,
   "metadata": {},
   "outputs": [],
   "source": []
  }
 ],
 "metadata": {
  "kernelspec": {
   "display_name": "Python 3",
   "language": "python",
   "name": "python3"
  },
  "language_info": {
   "codemirror_mode": {
    "name": "ipython",
    "version": 3
   },
   "file_extension": ".py",
   "mimetype": "text/x-python",
   "name": "python",
   "nbconvert_exporter": "python",
   "pygments_lexer": "ipython3",
   "version": "3.11.0"
  }
 },
 "nbformat": 4,
 "nbformat_minor": 2
}
