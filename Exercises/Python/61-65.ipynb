{
 "cells": [
  {
   "cell_type": "markdown",
   "metadata": {},
   "source": [
    "# Look and Say Numbers"
   ]
  },
  {
   "cell_type": "code",
   "execution_count": 3,
   "metadata": {},
   "outputs": [
    {
     "name": "stdout",
     "output_type": "stream",
     "text": [
      "555555555\n",
      "23456789\n",
      "200\n",
      "invalid\n"
     ]
    }
   ],
   "source": [
    "def look_and_say(number):\n",
    "    num_str = str(number)\n",
    "\n",
    "    if len(num_str) % 2 != 0:\n",
    "        return \"invalid\"\n",
    "\n",
    "    result = \"\"\n",
    "    for i in range(0, len(num_str), 2):\n",
    "        first_digit = int(num_str[i])\n",
    "        second_digit = num_str[i + 1]\n",
    "\n",
    "        result += second_digit * first_digit\n",
    "    \n",
    "    return int(result)\n",
    "\n",
    "print(look_and_say(95))  # ➞ 555555555\n",
    "print(look_and_say(1213141516171819))  # ➞ 23456789\n",
    "print(look_and_say(120520))  # ➞ 200\n",
    "print(look_and_say(231))  # ➞ \"invalid\""
   ]
  },
  {
   "cell_type": "markdown",
   "metadata": {},
   "source": [
    "# Pile of Cubes"
   ]
  },
  {
   "cell_type": "code",
   "execution_count": 5,
   "metadata": {},
   "outputs": [
    {
     "name": "stdout",
     "output_type": "stream",
     "text": [
      "45\n",
      "2022\n",
      "None\n"
     ]
    }
   ],
   "source": [
    "def pile_of_cubes(m):\n",
    "    n = 0\n",
    "    total_volume = 0\n",
    "\n",
    "    while total_volume < m:\n",
    "        n += 1\n",
    "        total_volume += n ** 3\n",
    "\n",
    "        if total_volume == m:\n",
    "            return n\n",
    "    \n",
    "    return None\n",
    "\n",
    "# Examples\n",
    "print(pile_of_cubes(1071225))  # ➞ 45\n",
    "print(pile_of_cubes(4183059834009))  # ➞ 2022\n",
    "print(pile_of_cubes(16))  # ➞ None"
   ]
  },
  {
   "cell_type": "markdown",
   "metadata": {},
   "source": [
    "# Cup Swapping"
   ]
  },
  {
   "cell_type": "code",
   "execution_count": null,
   "metadata": {},
   "outputs": [],
   "source": [
    "def cup_swapping(swaps):\n",
    "    ball_position = \"B\"\n",
    "    \n",
    "    for swap in swaps:\n",
    "        if ball_position in swap:\n",
    "            ball_position = swap[0] if ball_position == swap[1] else swap[1]\n",
    "    \n",
    "    return ball_position\n",
    "\n",
    "print(cup_swapping([\"AB\", \"CA\"]))  # ➞ \"C\"\n",
    "print(cup_swapping([\"AC\", \"CA\", \"CA\", \"AC\"]))  # ➞ \"B\"\n",
    "print(cup_swapping([\"BA\", \"AC\", \"CA\", \"BC\"]))  # ➞ \"A\""
   ]
  },
  {
   "cell_type": "markdown",
   "metadata": {},
   "source": [
    "# Sort Names According to the Length of Their Last Names"
   ]
  },
  {
   "cell_type": "code",
   "execution_count": 6,
   "metadata": {},
   "outputs": [
    {
     "name": "stdout",
     "output_type": "stream",
     "text": [
      "['Heather Mcgee', 'Nicole Yoder', 'Melissa Hoffman', 'Jennifer Figueroa', 'Amanda Schwartz']\n"
     ]
    }
   ],
   "source": [
    "def last_name_lensort(names):\n",
    "    sorted_names = sorted(names, key=lambda name: (len(name.split()[-1]), name.split()[-1]))\n",
    "    return sorted_names\n",
    "\n",
    "# Example\n",
    "names = [\n",
    "  \"Jennifer Figueroa\",\n",
    "  \"Heather Mcgee\",\n",
    "  \"Amanda Schwartz\",\n",
    "  \"Nicole Yoder\",\n",
    "  \"Melissa Hoffman\"\n",
    "]\n",
    "\n",
    "print(last_name_lensort(names))  # ➞ [\"Heather Mcgee\", \"Nicole Yoder\", \"Melissa Hoffman\", \"Jennifer Figueroa\", \"Amanda Schwartz\"]"
   ]
  },
  {
   "cell_type": "markdown",
   "metadata": {},
   "source": [
    "# Binary Tree Nodes"
   ]
  },
  {
   "cell_type": "code",
   "execution_count": 7,
   "metadata": {},
   "outputs": [
    {
     "name": "stdout",
     "output_type": "stream",
     "text": [
      "Root\n",
      "Leaf\n",
      "Inner\n",
      "Not exist\n"
     ]
    }
   ],
   "source": [
    "def node_type(N, P, node):\n",
    "    if node not in N:\n",
    "        return \"Not exist\"\n",
    "    \n",
    "    idx = N.index(node)\n",
    "\n",
    "    if P[idx] == -1:\n",
    "        return \"Root\"\n",
    "    \n",
    "    if node not in P:\n",
    "        return \"Leaf\"\n",
    "    \n",
    "    return \"Inner\"\n",
    "\n",
    "print(node_type([1, 3, 6, 9, 2, 8, 5], [2, 2, 8, 8, 5, 5, -1], 5))  # ➞ \"Root\"\n",
    "print(node_type([1, 3, 6, 9, 2, 8, 5], [2, 2, 8, 8, 5, 5, -1], 6))  # ➞ \"Leaf\"\n",
    "print(node_type([1, 3, 6, 9, 2, 8, 5], [2, 2, 8, 8, 5, 5, -1], 2))  # ➞ \"Inner\"\n",
    "print(node_type([1, 3, 6, 9, 2, 8, 5], [2, 2, 8, 8, 5, 5, -1], 10))  # ➞ \"Not exist\"\n"
   ]
  },
  {
   "cell_type": "markdown",
   "metadata": {},
   "source": []
  }
 ],
 "metadata": {
  "kernelspec": {
   "display_name": "Python 3",
   "language": "python",
   "name": "python3"
  },
  "language_info": {
   "codemirror_mode": {
    "name": "ipython",
    "version": 3
   },
   "file_extension": ".py",
   "mimetype": "text/x-python",
   "name": "python",
   "nbconvert_exporter": "python",
   "pygments_lexer": "ipython3",
   "version": "3.11.0"
  }
 },
 "nbformat": 4,
 "nbformat_minor": 2
}
